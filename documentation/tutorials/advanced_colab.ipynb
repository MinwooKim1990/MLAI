{
  "cells": [
    {
      "cell_type": "markdown",
      "metadata": {
        "id": "Tce3stUlHN0L"
      },
      "source": [
        "##### Copyright 2020 The TensorFlow Authors."
      ]
    },
    {
      "cell_type": "code",
      "execution_count": 1,
      "metadata": {
        "cellView": "form",
        "id": "tuOe1ymfHZPu"
      },
      "outputs": [],
      "source": [
        "#@title Licensed under the Apache License, Version 2.0 (the \"License\");\n",
        "# you may not use this file except in compliance with the License.\n",
        "# You may obtain a copy of the License at\n",
        "#\n",
        "# https://www.apache.org/licenses/LICENSE-2.0\n",
        "#\n",
        "# Unless required by applicable law or agreed to in writing, software\n",
        "# distributed under the License is distributed on an \"AS IS\" BASIS,\n",
        "# WITHOUT WARRANTIES OR CONDITIONS OF ANY KIND, either express or implied.\n",
        "# See the License for the specific language governing permissions and\n",
        "# limitations under the License."
      ]
    },
    {
      "cell_type": "markdown",
      "metadata": {
        "id": "8yo62ffS5TF5"
      },
      "source": [
        "# Inspect and debug decision forest models\n",
        "\n",
        "<table class=\"tfo-notebook-buttons\" align=\"left\">\n",
        "  <td>\n",
        "    <a target=\"_blank\" href=\"https://www.tensorflow.org/decision_forests/tutorials/advanced_colab\"><img src=\"https://www.tensorflow.org/images/tf_logo_32px.png\" />View on TensorFlow.org</a>\n",
        "  </td>\n",
        "  <td>\n",
        "    <a target=\"_blank\" href=\"https://colab.research.google.com/github/tensorflow/decision-forests/blob/main/documentation/tutorials/advanced_colab.ipynb\"><img src=\"https://www.tensorflow.org/images/colab_logo_32px.png\" />Run in Google Colab</a>\n",
        "  </td>\n",
        "  <td>\n",
        "    <a target=\"_blank\" href=\"https://github.com/tensorflow/decision-forests/blob/main/documentation/tutorials/advanced_colab.ipynb\"><img src=\"https://www.tensorflow.org/images/GitHub-Mark-32px.png\" />View on GitHub</a>\n",
        "  </td>\n",
        "  <td>\n",
        "    <a href=\"https://storage.googleapis.com/tensorflow_docs/decision-forests/documentation/tutorials/advanced_colab.ipynb\"><img src=\"https://www.tensorflow.org/images/download_logo_32px.png\" />Download notebook</a>\n",
        "  </td>\n",
        "</table>\n"
      ]
    },
    {
      "cell_type": "markdown",
      "metadata": {
        "id": "84wIz8LPiLDF"
      },
      "source": [
        "In this colab, you will learn how to inspect and create the structure of a model directly. We assume you are familiar with the concepts introduced in the\n",
        "[beginner](beginner_colab.ipynb) and [intermediate](intermediate_colab.ipynb)\n",
        "colabs.\n",
        "\n",
        "In this colab, you will:\n",
        "\n",
        "1.  Train a Random Forest model and access its structure programmatically.\n",
        "\n",
        "1.  Create a Random Forest model by hand and use it as a classical model."
      ]
    },
    {
      "cell_type": "markdown",
      "metadata": {
        "id": "Rzskapxq7gdo"
      },
      "source": [
        "## Setup"
      ]
    },
    {
      "cell_type": "code",
      "execution_count": 2,
      "metadata": {
        "id": "mZiInVYfffAb",
        "outputId": "e8402bb8-3216-47a2-e123-af4afc7c3ffe",
        "colab": {
          "base_uri": "https://localhost:8080/"
        }
      },
      "outputs": [
        {
          "output_type": "stream",
          "name": "stdout",
          "text": [
            "Looking in indexes: https://pypi.org/simple, https://us-python.pkg.dev/colab-wheels/public/simple/\n",
            "Collecting tensorflow_decision_forests\n",
            "  Downloading tensorflow_decision_forests-1.1.0-cp38-cp38-manylinux_2_17_x86_64.manylinux2014_x86_64.whl (16.2 MB)\n",
            "\u001b[2K     \u001b[90m━━━━━━━━━━━━━━━━━━━━━━━━━━━━━━━━━━━━━━━━\u001b[0m \u001b[32m16.2/16.2 MB\u001b[0m \u001b[31m24.8 MB/s\u001b[0m eta \u001b[36m0:00:00\u001b[0m\n",
            "\u001b[?25hRequirement already satisfied: six in /usr/local/lib/python3.8/dist-packages (from tensorflow_decision_forests) (1.15.0)\n",
            "Requirement already satisfied: absl-py in /usr/local/lib/python3.8/dist-packages (from tensorflow_decision_forests) (1.3.0)\n",
            "Requirement already satisfied: numpy in /usr/local/lib/python3.8/dist-packages (from tensorflow_decision_forests) (1.21.6)\n",
            "Collecting wurlitzer\n",
            "  Downloading wurlitzer-3.0.3-py3-none-any.whl (7.3 kB)\n",
            "Requirement already satisfied: wheel in /usr/local/lib/python3.8/dist-packages (from tensorflow_decision_forests) (0.38.4)\n",
            "Requirement already satisfied: pandas in /usr/local/lib/python3.8/dist-packages (from tensorflow_decision_forests) (1.3.5)\n",
            "Collecting tensorflow~=2.11.0\n",
            "  Downloading tensorflow-2.11.0-cp38-cp38-manylinux_2_17_x86_64.manylinux2014_x86_64.whl (588.3 MB)\n",
            "\u001b[2K     \u001b[90m━━━━━━━━━━━━━━━━━━━━━━━━━━━━━━━━━━━━━━━\u001b[0m \u001b[32m588.3/588.3 MB\u001b[0m \u001b[31m1.8 MB/s\u001b[0m eta \u001b[36m0:00:00\u001b[0m\n",
            "\u001b[?25hRequirement already satisfied: protobuf<3.20,>=3.9.2 in /usr/local/lib/python3.8/dist-packages (from tensorflow~=2.11.0->tensorflow_decision_forests) (3.19.6)\n",
            "Collecting tensorflow-estimator<2.12,>=2.11.0\n",
            "  Downloading tensorflow_estimator-2.11.0-py2.py3-none-any.whl (439 kB)\n",
            "\u001b[2K     \u001b[90m━━━━━━━━━━━━━━━━━━━━━━━━━━━━━━━━━━━━━━\u001b[0m \u001b[32m439.2/439.2 KB\u001b[0m \u001b[31m16.4 MB/s\u001b[0m eta \u001b[36m0:00:00\u001b[0m\n",
            "\u001b[?25hRequirement already satisfied: termcolor>=1.1.0 in /usr/local/lib/python3.8/dist-packages (from tensorflow~=2.11.0->tensorflow_decision_forests) (2.2.0)\n",
            "Collecting keras<2.12,>=2.11.0\n",
            "  Downloading keras-2.11.0-py2.py3-none-any.whl (1.7 MB)\n",
            "\u001b[2K     \u001b[90m━━━━━━━━━━━━━━━━━━━━━━━━━━━━━━━━━━━━━━━━\u001b[0m \u001b[32m1.7/1.7 MB\u001b[0m \u001b[31m15.3 MB/s\u001b[0m eta \u001b[36m0:00:00\u001b[0m\n",
            "\u001b[?25hRequirement already satisfied: h5py>=2.9.0 in /usr/local/lib/python3.8/dist-packages (from tensorflow~=2.11.0->tensorflow_decision_forests) (3.1.0)\n",
            "Requirement already satisfied: wrapt>=1.11.0 in /usr/local/lib/python3.8/dist-packages (from tensorflow~=2.11.0->tensorflow_decision_forests) (1.14.1)\n",
            "Collecting flatbuffers>=2.0\n",
            "  Downloading flatbuffers-23.1.21-py2.py3-none-any.whl (26 kB)\n",
            "Requirement already satisfied: libclang>=13.0.0 in /usr/local/lib/python3.8/dist-packages (from tensorflow~=2.11.0->tensorflow_decision_forests) (15.0.6.1)\n",
            "Requirement already satisfied: gast<=0.4.0,>=0.2.1 in /usr/local/lib/python3.8/dist-packages (from tensorflow~=2.11.0->tensorflow_decision_forests) (0.4.0)\n",
            "Requirement already satisfied: opt-einsum>=2.3.2 in /usr/local/lib/python3.8/dist-packages (from tensorflow~=2.11.0->tensorflow_decision_forests) (3.3.0)\n",
            "Requirement already satisfied: setuptools in /usr/local/lib/python3.8/dist-packages (from tensorflow~=2.11.0->tensorflow_decision_forests) (57.4.0)\n",
            "Requirement already satisfied: typing-extensions>=3.6.6 in /usr/local/lib/python3.8/dist-packages (from tensorflow~=2.11.0->tensorflow_decision_forests) (4.4.0)\n",
            "Requirement already satisfied: tensorflow-io-gcs-filesystem>=0.23.1 in /usr/local/lib/python3.8/dist-packages (from tensorflow~=2.11.0->tensorflow_decision_forests) (0.29.0)\n",
            "Requirement already satisfied: google-pasta>=0.1.1 in /usr/local/lib/python3.8/dist-packages (from tensorflow~=2.11.0->tensorflow_decision_forests) (0.2.0)\n",
            "Requirement already satisfied: grpcio<2.0,>=1.24.3 in /usr/local/lib/python3.8/dist-packages (from tensorflow~=2.11.0->tensorflow_decision_forests) (1.51.1)\n",
            "Requirement already satisfied: packaging in /usr/local/lib/python3.8/dist-packages (from tensorflow~=2.11.0->tensorflow_decision_forests) (21.3)\n",
            "Requirement already satisfied: astunparse>=1.6.0 in /usr/local/lib/python3.8/dist-packages (from tensorflow~=2.11.0->tensorflow_decision_forests) (1.6.3)\n",
            "Collecting tensorboard<2.12,>=2.11\n",
            "  Downloading tensorboard-2.11.2-py3-none-any.whl (6.0 MB)\n",
            "\u001b[2K     \u001b[90m━━━━━━━━━━━━━━━━━━━━━━━━━━━━━━━━━━━━━━━━\u001b[0m \u001b[32m6.0/6.0 MB\u001b[0m \u001b[31m35.6 MB/s\u001b[0m eta \u001b[36m0:00:00\u001b[0m\n",
            "\u001b[?25hRequirement already satisfied: pytz>=2017.3 in /usr/local/lib/python3.8/dist-packages (from pandas->tensorflow_decision_forests) (2022.7)\n",
            "Requirement already satisfied: python-dateutil>=2.7.3 in /usr/local/lib/python3.8/dist-packages (from pandas->tensorflow_decision_forests) (2.8.2)\n",
            "Requirement already satisfied: google-auth-oauthlib<0.5,>=0.4.1 in /usr/local/lib/python3.8/dist-packages (from tensorboard<2.12,>=2.11->tensorflow~=2.11.0->tensorflow_decision_forests) (0.4.6)\n",
            "Requirement already satisfied: requests<3,>=2.21.0 in /usr/local/lib/python3.8/dist-packages (from tensorboard<2.12,>=2.11->tensorflow~=2.11.0->tensorflow_decision_forests) (2.25.1)\n",
            "Requirement already satisfied: markdown>=2.6.8 in /usr/local/lib/python3.8/dist-packages (from tensorboard<2.12,>=2.11->tensorflow~=2.11.0->tensorflow_decision_forests) (3.4.1)\n",
            "Requirement already satisfied: google-auth<3,>=1.6.3 in /usr/local/lib/python3.8/dist-packages (from tensorboard<2.12,>=2.11->tensorflow~=2.11.0->tensorflow_decision_forests) (2.16.0)\n",
            "Requirement already satisfied: tensorboard-data-server<0.7.0,>=0.6.0 in /usr/local/lib/python3.8/dist-packages (from tensorboard<2.12,>=2.11->tensorflow~=2.11.0->tensorflow_decision_forests) (0.6.1)\n",
            "Requirement already satisfied: tensorboard-plugin-wit>=1.6.0 in /usr/local/lib/python3.8/dist-packages (from tensorboard<2.12,>=2.11->tensorflow~=2.11.0->tensorflow_decision_forests) (1.8.1)\n",
            "Requirement already satisfied: werkzeug>=1.0.1 in /usr/local/lib/python3.8/dist-packages (from tensorboard<2.12,>=2.11->tensorflow~=2.11.0->tensorflow_decision_forests) (1.0.1)\n",
            "Requirement already satisfied: pyparsing!=3.0.5,>=2.0.2 in /usr/local/lib/python3.8/dist-packages (from packaging->tensorflow~=2.11.0->tensorflow_decision_forests) (3.0.9)\n",
            "Requirement already satisfied: pyasn1-modules>=0.2.1 in /usr/local/lib/python3.8/dist-packages (from google-auth<3,>=1.6.3->tensorboard<2.12,>=2.11->tensorflow~=2.11.0->tensorflow_decision_forests) (0.2.8)\n",
            "Requirement already satisfied: rsa<5,>=3.1.4 in /usr/local/lib/python3.8/dist-packages (from google-auth<3,>=1.6.3->tensorboard<2.12,>=2.11->tensorflow~=2.11.0->tensorflow_decision_forests) (4.9)\n",
            "Requirement already satisfied: cachetools<6.0,>=2.0.0 in /usr/local/lib/python3.8/dist-packages (from google-auth<3,>=1.6.3->tensorboard<2.12,>=2.11->tensorflow~=2.11.0->tensorflow_decision_forests) (5.2.1)\n",
            "Requirement already satisfied: requests-oauthlib>=0.7.0 in /usr/local/lib/python3.8/dist-packages (from google-auth-oauthlib<0.5,>=0.4.1->tensorboard<2.12,>=2.11->tensorflow~=2.11.0->tensorflow_decision_forests) (1.3.1)\n",
            "Requirement already satisfied: importlib-metadata>=4.4 in /usr/local/lib/python3.8/dist-packages (from markdown>=2.6.8->tensorboard<2.12,>=2.11->tensorflow~=2.11.0->tensorflow_decision_forests) (6.0.0)\n",
            "Requirement already satisfied: certifi>=2017.4.17 in /usr/local/lib/python3.8/dist-packages (from requests<3,>=2.21.0->tensorboard<2.12,>=2.11->tensorflow~=2.11.0->tensorflow_decision_forests) (2022.12.7)\n",
            "Requirement already satisfied: urllib3<1.27,>=1.21.1 in /usr/local/lib/python3.8/dist-packages (from requests<3,>=2.21.0->tensorboard<2.12,>=2.11->tensorflow~=2.11.0->tensorflow_decision_forests) (1.24.3)\n",
            "Requirement already satisfied: idna<3,>=2.5 in /usr/local/lib/python3.8/dist-packages (from requests<3,>=2.21.0->tensorboard<2.12,>=2.11->tensorflow~=2.11.0->tensorflow_decision_forests) (2.10)\n",
            "Requirement already satisfied: chardet<5,>=3.0.2 in /usr/local/lib/python3.8/dist-packages (from requests<3,>=2.21.0->tensorboard<2.12,>=2.11->tensorflow~=2.11.0->tensorflow_decision_forests) (4.0.0)\n",
            "Requirement already satisfied: zipp>=0.5 in /usr/local/lib/python3.8/dist-packages (from importlib-metadata>=4.4->markdown>=2.6.8->tensorboard<2.12,>=2.11->tensorflow~=2.11.0->tensorflow_decision_forests) (3.11.0)\n",
            "Requirement already satisfied: pyasn1<0.5.0,>=0.4.6 in /usr/local/lib/python3.8/dist-packages (from pyasn1-modules>=0.2.1->google-auth<3,>=1.6.3->tensorboard<2.12,>=2.11->tensorflow~=2.11.0->tensorflow_decision_forests) (0.4.8)\n",
            "Requirement already satisfied: oauthlib>=3.0.0 in /usr/local/lib/python3.8/dist-packages (from requests-oauthlib>=0.7.0->google-auth-oauthlib<0.5,>=0.4.1->tensorboard<2.12,>=2.11->tensorflow~=2.11.0->tensorflow_decision_forests) (3.2.2)\n",
            "Installing collected packages: flatbuffers, wurlitzer, tensorflow-estimator, keras, tensorboard, tensorflow, tensorflow_decision_forests\n",
            "  Attempting uninstall: flatbuffers\n",
            "    Found existing installation: flatbuffers 1.12\n",
            "    Uninstalling flatbuffers-1.12:\n",
            "      Successfully uninstalled flatbuffers-1.12\n",
            "  Attempting uninstall: tensorflow-estimator\n",
            "    Found existing installation: tensorflow-estimator 2.9.0\n",
            "    Uninstalling tensorflow-estimator-2.9.0:\n",
            "      Successfully uninstalled tensorflow-estimator-2.9.0\n",
            "  Attempting uninstall: keras\n",
            "    Found existing installation: keras 2.9.0\n",
            "    Uninstalling keras-2.9.0:\n",
            "      Successfully uninstalled keras-2.9.0\n",
            "  Attempting uninstall: tensorboard\n",
            "    Found existing installation: tensorboard 2.9.1\n",
            "    Uninstalling tensorboard-2.9.1:\n",
            "      Successfully uninstalled tensorboard-2.9.1\n",
            "  Attempting uninstall: tensorflow\n",
            "    Found existing installation: tensorflow 2.9.2\n",
            "    Uninstalling tensorflow-2.9.2:\n",
            "      Successfully uninstalled tensorflow-2.9.2\n",
            "Successfully installed flatbuffers-23.1.21 keras-2.11.0 tensorboard-2.11.2 tensorflow-2.11.0 tensorflow-estimator-2.11.0 tensorflow_decision_forests-1.1.0 wurlitzer-3.0.3\n",
            "Looking in indexes: https://pypi.org/simple, https://us-python.pkg.dev/colab-wheels/public/simple/\n",
            "Requirement already satisfied: wurlitzer in /usr/local/lib/python3.8/dist-packages (3.0.3)\n"
          ]
        }
      ],
      "source": [
        "# Install TensorFlow Dececision Forests.\n",
        "!pip install tensorflow_decision_forests\n",
        "\n",
        "# Use wurlitzer to show the training logs.\n",
        "!pip install wurlitzer"
      ]
    },
    {
      "cell_type": "code",
      "execution_count": 3,
      "metadata": {
        "id": "RsCV2oAS7gC_"
      },
      "outputs": [],
      "source": [
        "import tensorflow_decision_forests as tfdf\n",
        "\n",
        "import os\n",
        "import numpy as np\n",
        "import pandas as pd\n",
        "import tensorflow as tf\n",
        "import matplotlib.pyplot as plt\n",
        "import math\n",
        "import collections"
      ]
    },
    {
      "cell_type": "markdown",
      "metadata": {
        "id": "xV3klWJnyCgH"
      },
      "source": [
        "The hidden code cell limits the output height in colab."
      ]
    },
    {
      "cell_type": "code",
      "execution_count": 4,
      "metadata": {
        "cellView": "form",
        "id": "XAWSjWrQmVE0"
      },
      "outputs": [],
      "source": [
        "#@title\n",
        "\n",
        "from IPython.core.magic import register_line_magic\n",
        "from IPython.display import Javascript\n",
        "from IPython.display import display as ipy_display\n",
        "\n",
        "# Some of the model training logs can cover the full\n",
        "# screen if not compressed to a smaller viewport.\n",
        "# This magic allows setting a max height for a cell.\n",
        "@register_line_magic\n",
        "def set_cell_height(size):\n",
        "  ipy_display(\n",
        "      Javascript(\"google.colab.output.setIframeHeight(0, true, {maxHeight: \" +\n",
        "                 str(size) + \"})\"))"
      ]
    },
    {
      "cell_type": "markdown",
      "metadata": {
        "id": "M_D4Ft4o65XT"
      },
      "source": [
        "## Train a simple Random Forest\n",
        "\n",
        "We train a Random Forest like in the [beginner colab](beginner_colab.ipynb):"
      ]
    },
    {
      "cell_type": "code",
      "execution_count": 5,
      "metadata": {
        "id": "tTW2aBiVcU3E",
        "outputId": "c264a734-9116-4b18-911a-a89d0abe7fce",
        "colab": {
          "base_uri": "https://localhost:8080/"
        }
      },
      "outputs": [
        {
          "output_type": "stream",
          "name": "stdout",
          "text": [
            "  species     island  bill_length_mm  bill_depth_mm  flipper_length_mm  \\\n",
            "0  Adelie  Torgersen            39.1           18.7              181.0   \n",
            "1  Adelie  Torgersen            39.5           17.4              186.0   \n",
            "2  Adelie  Torgersen            40.3           18.0              195.0   \n",
            "\n",
            "   body_mass_g     sex  year  \n",
            "0       3750.0    male  2007  \n",
            "1       3800.0  female  2007  \n",
            "2       3250.0  female  2007  \n",
            "Use /tmp/tmp2p62p4lt as temporary training directory\n",
            "Reading training dataset...\n"
          ]
        },
        {
          "output_type": "stream",
          "name": "stderr",
          "text": [
            "WARNING:tensorflow:From /usr/local/lib/python3.8/dist-packages/tensorflow/python/autograph/pyct/static_analysis/liveness.py:83: Analyzer.lamba_check (from tensorflow.python.autograph.pyct.static_analysis.liveness) is deprecated and will be removed after 2023-09-23.\n",
            "Instructions for updating:\n",
            "Lambda fuctions will be no more assumed to be used in the statement where they are used, or at least in the same block. https://github.com/tensorflow/tensorflow/issues/56089\n"
          ]
        },
        {
          "output_type": "stream",
          "name": "stdout",
          "text": [
            "Training dataset read in 0:00:08.043143. Found 344 examples.\n",
            "Training model...\n",
            "Model trained in 0:00:00.270174\n",
            "Compiling model...\n"
          ]
        },
        {
          "output_type": "stream",
          "name": "stderr",
          "text": [
            "WARNING:tensorflow:AutoGraph could not transform <function simple_ml_inference_op_with_handle at 0x7f69427ad310> and will run it as-is.\n",
            "Please report this to the TensorFlow team. When filing the bug, set the verbosity to 10 (on Linux, `export AUTOGRAPH_VERBOSITY=10`) and attach the full output.\n",
            "Cause: could not get source code\n",
            "To silence this warning, decorate the function with @tf.autograph.experimental.do_not_convert\n"
          ]
        },
        {
          "output_type": "stream",
          "name": "stdout",
          "text": [
            "WARNING: AutoGraph could not transform <function simple_ml_inference_op_with_handle at 0x7f69427ad310> and will run it as-is.\n",
            "Please report this to the TensorFlow team. When filing the bug, set the verbosity to 10 (on Linux, `export AUTOGRAPH_VERBOSITY=10`) and attach the full output.\n",
            "Cause: could not get source code\n",
            "To silence this warning, decorate the function with @tf.autograph.experimental.do_not_convert\n",
            "Model compiled.\n"
          ]
        },
        {
          "output_type": "execute_result",
          "data": {
            "text/plain": [
              "<keras.callbacks.History at 0x7f6941237040>"
            ]
          },
          "metadata": {},
          "execution_count": 5
        }
      ],
      "source": [
        "# Download the dataset\n",
        "!wget -q https://storage.googleapis.com/download.tensorflow.org/data/palmer_penguins/penguins.csv -O /tmp/penguins.csv\n",
        "\n",
        "# Load a dataset into a Pandas Dataframe.\n",
        "dataset_df = pd.read_csv(\"/tmp/penguins.csv\")\n",
        "\n",
        "# Show the first three examples.\n",
        "print(dataset_df.head(3))\n",
        "\n",
        "# Convert the pandas dataframe into a tf dataset.\n",
        "dataset_tf = tfdf.keras.pd_dataframe_to_tf_dataset(dataset_df, label=\"species\")\n",
        "\n",
        "# Train the Random Forest\n",
        "model = tfdf.keras.RandomForestModel(compute_oob_variable_importances=True)\n",
        "model.fit(x=dataset_tf)"
      ]
    },
    {
      "cell_type": "markdown",
      "metadata": {
        "id": "b7Xie0bhcw8_"
      },
      "source": [
        "Note the `compute_oob_variable_importances=True`\n",
        "hyper-parameter in the model constructor. This option computes the Out-of-bag (OOB)\n",
        "variable importance during training. This is a popular\n",
        "[permutation variable importance](https://christophm.github.io/interpretable-ml-book/feature-importance.html) for Random Forest models.\n",
        "\n",
        "Computing the OOB Variable importance does not impact the final model, it will slow the training on large datasets.\n",
        "\n",
        "Check the model summary:"
      ]
    },
    {
      "cell_type": "code",
      "execution_count": 6,
      "metadata": {
        "id": "fsQYD-jFc2EH",
        "outputId": "efce33df-7b6d-485d-fdae-f0c51a694a09",
        "colab": {
          "base_uri": "https://localhost:8080/",
          "height": 300
        }
      },
      "outputs": [
        {
          "output_type": "display_data",
          "data": {
            "text/plain": [
              "<IPython.core.display.Javascript object>"
            ],
            "application/javascript": [
              "google.colab.output.setIframeHeight(0, true, {maxHeight: 300})"
            ]
          },
          "metadata": {}
        },
        {
          "output_type": "stream",
          "name": "stdout",
          "text": [
            "Model: \"random_forest_model\"\n",
            "_________________________________________________________________\n",
            " Layer (type)                Output Shape              Param #   \n",
            "=================================================================\n",
            "=================================================================\n",
            "Total params: 1\n",
            "Trainable params: 0\n",
            "Non-trainable params: 1\n",
            "_________________________________________________________________\n",
            "Type: \"RANDOM_FOREST\"\n",
            "Task: CLASSIFICATION\n",
            "Label: \"__LABEL\"\n",
            "\n",
            "Input Features (7):\n",
            "\tbill_depth_mm\n",
            "\tbill_length_mm\n",
            "\tbody_mass_g\n",
            "\tflipper_length_mm\n",
            "\tisland\n",
            "\tsex\n",
            "\tyear\n",
            "\n",
            "No weights\n",
            "\n",
            "Variable Importance: MEAN_DECREASE_IN_ACCURACY:\n",
            "    1.    \"bill_length_mm\"  0.151163 ################\n",
            "    2.            \"island\"  0.008721 #\n",
            "    3.     \"bill_depth_mm\"  0.000000 \n",
            "    4.       \"body_mass_g\"  0.000000 \n",
            "    5.               \"sex\"  0.000000 \n",
            "    6.              \"year\"  0.000000 \n",
            "    7. \"flipper_length_mm\" -0.002907 \n",
            "\n",
            "Variable Importance: MEAN_DECREASE_IN_AP_1_VS_OTHERS:\n",
            "    1.    \"bill_length_mm\"  0.083305 ################\n",
            "    2.            \"island\"  0.007664 #\n",
            "    3. \"flipper_length_mm\"  0.003400 \n",
            "    4.     \"bill_depth_mm\"  0.002741 \n",
            "    5.       \"body_mass_g\"  0.000722 \n",
            "    6.               \"sex\"  0.000644 \n",
            "    7.              \"year\"  0.000000 \n",
            "\n",
            "Variable Importance: MEAN_DECREASE_IN_AP_2_VS_OTHERS:\n",
            "    1.    \"bill_length_mm\"  0.508510 ################\n",
            "    2.            \"island\"  0.023487 \n",
            "    3.     \"bill_depth_mm\"  0.007744 \n",
            "    4. \"flipper_length_mm\"  0.006008 \n",
            "    5.       \"body_mass_g\"  0.003017 \n",
            "    6.               \"sex\"  0.001537 \n",
            "    7.              \"year\" -0.000245 \n",
            "\n",
            "Variable Importance: MEAN_DECREASE_IN_AP_3_VS_OTHERS:\n",
            "    1.            \"island\"  0.002192 ################\n",
            "    2.    \"bill_length_mm\"  0.001572 ############\n",
            "    3.     \"bill_depth_mm\"  0.000497 #######\n",
            "    4.               \"sex\"  0.000000 ####\n",
            "    5.              \"year\"  0.000000 ####\n",
            "    6.       \"body_mass_g\" -0.000053 ####\n",
            "    7. \"flipper_length_mm\" -0.000890 \n",
            "\n",
            "Variable Importance: MEAN_DECREASE_IN_AUC_1_VS_OTHERS:\n",
            "    1.    \"bill_length_mm\"  0.071306 ################\n",
            "    2.            \"island\"  0.007299 #\n",
            "    3. \"flipper_length_mm\"  0.004506 #\n",
            "    4.     \"bill_depth_mm\"  0.002124 \n",
            "    5.       \"body_mass_g\"  0.000548 \n",
            "    6.               \"sex\"  0.000480 \n",
            "    7.              \"year\"  0.000000 \n",
            "\n",
            "Variable Importance: MEAN_DECREASE_IN_AUC_2_VS_OTHERS:\n",
            "    1.    \"bill_length_mm\"  0.108642 ################\n",
            "    2.            \"island\"  0.014493 ##\n",
            "    3.     \"bill_depth_mm\"  0.007406 #\n",
            "    4. \"flipper_length_mm\"  0.005195 \n",
            "    5.       \"body_mass_g\"  0.001012 \n",
            "    6.               \"sex\"  0.000480 \n",
            "    7.              \"year\" -0.000053 \n",
            "\n",
            "Variable Importance: MEAN_DECREASE_IN_AUC_3_VS_OTHERS:\n",
            "    1.            \"island\"  0.002126 ################\n",
            "    2.    \"bill_length_mm\"  0.001393 ###########\n",
            "    3.     \"bill_depth_mm\"  0.000293 #####\n",
            "    4.               \"sex\"  0.000000 ###\n",
            "    5.              \"year\"  0.000000 ###\n",
            "    6.       \"body_mass_g\" -0.000037 ###\n",
            "    7. \"flipper_length_mm\" -0.000550 \n",
            "\n",
            "Variable Importance: MEAN_DECREASE_IN_PRAUC_1_VS_OTHERS:\n",
            "    1.    \"bill_length_mm\"  0.083122 ################\n",
            "    2.            \"island\"  0.010887 ##\n",
            "    3. \"flipper_length_mm\"  0.003425 \n",
            "    4.     \"bill_depth_mm\"  0.002731 \n",
            "    5.       \"body_mass_g\"  0.000719 \n",
            "    6.               \"sex\"  0.000641 \n",
            "    7.              \"year\"  0.000000 \n",
            "\n",
            "Variable Importance: MEAN_DECREASE_IN_PRAUC_2_VS_OTHERS:\n",
            "    1.    \"bill_length_mm\"  0.497611 ################\n",
            "    2.            \"island\"  0.024045 \n",
            "    3.     \"bill_depth_mm\"  0.007734 \n",
            "    4. \"flipper_length_mm\"  0.006017 \n",
            "    5.       \"body_mass_g\"  0.003000 \n",
            "    6.               \"sex\"  0.001528 \n",
            "    7.              \"year\" -0.000243 \n",
            "\n",
            "Variable Importance: MEAN_DECREASE_IN_PRAUC_3_VS_OTHERS:\n",
            "    1.            \"island\"  0.002187 ################\n",
            "    2.    \"bill_length_mm\"  0.001568 ############\n",
            "    3.     \"bill_depth_mm\"  0.000495 #######\n",
            "    4.               \"sex\"  0.000000 ####\n",
            "    5.              \"year\"  0.000000 ####\n",
            "    6.       \"body_mass_g\" -0.000053 ####\n",
            "    7. \"flipper_length_mm\" -0.000886 \n",
            "\n",
            "Variable Importance: MEAN_MIN_DEPTH:\n",
            "    1.           \"__LABEL\"  3.479602 ################\n",
            "    2.              \"year\"  3.463891 ###############\n",
            "    3.               \"sex\"  3.430498 ###############\n",
            "    4.       \"body_mass_g\"  2.898112 ###########\n",
            "    5.            \"island\"  2.388925 ########\n",
            "    6.     \"bill_depth_mm\"  2.336100 #######\n",
            "    7.    \"bill_length_mm\"  1.282960 \n",
            "    8. \"flipper_length_mm\"  1.270079 \n",
            "\n",
            "Variable Importance: NUM_AS_ROOT:\n",
            "    1. \"flipper_length_mm\" 157.000000 ################\n",
            "    2.    \"bill_length_mm\" 76.000000 #######\n",
            "    3.     \"bill_depth_mm\" 52.000000 #####\n",
            "    4.            \"island\" 12.000000 \n",
            "    5.       \"body_mass_g\"  3.000000 \n",
            "\n",
            "Variable Importance: NUM_NODES:\n",
            "    1.    \"bill_length_mm\" 778.000000 ################\n",
            "    2.     \"bill_depth_mm\" 463.000000 #########\n",
            "    3. \"flipper_length_mm\" 414.000000 ########\n",
            "    4.            \"island\" 342.000000 ######\n",
            "    5.       \"body_mass_g\" 338.000000 ######\n",
            "    6.               \"sex\" 36.000000 \n",
            "    7.              \"year\" 19.000000 \n",
            "\n",
            "Variable Importance: SUM_SCORE:\n",
            "    1.    \"bill_length_mm\" 36515.793787 ################\n",
            "    2. \"flipper_length_mm\" 35120.434174 ###############\n",
            "    3.            \"island\" 14669.408395 ######\n",
            "    4.     \"bill_depth_mm\" 14515.446617 ######\n",
            "    5.       \"body_mass_g\" 3485.330881 #\n",
            "    6.               \"sex\" 354.201073 \n",
            "    7.              \"year\" 49.737758 \n",
            "\n",
            "\n",
            "\n",
            "Winner takes all: true\n",
            "Out-of-bag evaluation: accuracy:0.976744 logloss:0.068949\n",
            "Number of trees: 300\n",
            "Total number of nodes: 5080\n",
            "\n",
            "Number of nodes by tree:\n",
            "Count: 300 Average: 16.9333 StdDev: 3.10197\n",
            "Min: 11 Max: 31 Ignored: 0\n",
            "----------------------------------------------\n",
            "[ 11, 12)  6   2.00%   2.00% #\n",
            "[ 12, 13)  0   0.00%   2.00%\n",
            "[ 13, 14) 46  15.33%  17.33% #####\n",
            "[ 14, 15)  0   0.00%  17.33%\n",
            "[ 15, 16) 70  23.33%  40.67% ########\n",
            "[ 16, 17)  0   0.00%  40.67%\n",
            "[ 17, 18) 84  28.00%  68.67% ##########\n",
            "[ 18, 19)  0   0.00%  68.67%\n",
            "[ 19, 20) 46  15.33%  84.00% #####\n",
            "[ 20, 21)  0   0.00%  84.00%\n",
            "[ 21, 22) 30  10.00%  94.00% ####\n",
            "[ 22, 23)  0   0.00%  94.00%\n",
            "[ 23, 24) 13   4.33%  98.33% ##\n",
            "[ 24, 25)  0   0.00%  98.33%\n",
            "[ 25, 26)  2   0.67%  99.00%\n",
            "[ 26, 27)  0   0.00%  99.00%\n",
            "[ 27, 28)  2   0.67%  99.67%\n",
            "[ 28, 29)  0   0.00%  99.67%\n",
            "[ 29, 30)  0   0.00%  99.67%\n",
            "[ 30, 31]  1   0.33% 100.00%\n",
            "\n",
            "Depth by leafs:\n",
            "Count: 2690 Average: 3.53271 StdDev: 1.06789\n",
            "Min: 2 Max: 7 Ignored: 0\n",
            "----------------------------------------------\n",
            "[ 2, 3) 545  20.26%  20.26% ######\n",
            "[ 3, 4) 747  27.77%  48.03% ########\n",
            "[ 4, 5) 888  33.01%  81.04% ##########\n",
            "[ 5, 6) 444  16.51%  97.55% #####\n",
            "[ 6, 7)  62   2.30%  99.85% #\n",
            "[ 7, 7]   4   0.15% 100.00%\n",
            "\n",
            "Number of training obs by leaf:\n",
            "Count: 2690 Average: 38.3643 StdDev: 44.8651\n",
            "Min: 5 Max: 155 Ignored: 0\n",
            "----------------------------------------------\n",
            "[   5,  12) 1474  54.80%  54.80% ##########\n",
            "[  12,  20)  124   4.61%  59.41% #\n",
            "[  20,  27)   48   1.78%  61.19%\n",
            "[  27,  35)   74   2.75%  63.94% #\n",
            "[  35,  42)   58   2.16%  66.10%\n",
            "[  42,  50)   85   3.16%  69.26% #\n",
            "[  50,  57)   96   3.57%  72.83% #\n",
            "[  57,  65)   87   3.23%  76.06% #\n",
            "[  65,  72)   49   1.82%  77.88%\n",
            "[  72,  80)   23   0.86%  78.74%\n",
            "[  80,  88)   30   1.12%  79.85%\n",
            "[  88,  95)   23   0.86%  80.71%\n",
            "[  95, 103)   42   1.56%  82.27%\n",
            "[ 103, 110)   62   2.30%  84.57%\n",
            "[ 110, 118)  115   4.28%  88.85% #\n",
            "[ 118, 125)  115   4.28%  93.12% #\n",
            "[ 125, 133)   98   3.64%  96.77% #\n",
            "[ 133, 140)   49   1.82%  98.59%\n",
            "[ 140, 148)   31   1.15%  99.74%\n",
            "[ 148, 155]    7   0.26% 100.00%\n",
            "\n",
            "Attribute in nodes:\n",
            "\t778 : bill_length_mm [NUMERICAL]\n",
            "\t463 : bill_depth_mm [NUMERICAL]\n",
            "\t414 : flipper_length_mm [NUMERICAL]\n",
            "\t342 : island [CATEGORICAL]\n",
            "\t338 : body_mass_g [NUMERICAL]\n",
            "\t36 : sex [CATEGORICAL]\n",
            "\t19 : year [NUMERICAL]\n",
            "\n",
            "Attribute in nodes with depth <= 0:\n",
            "\t157 : flipper_length_mm [NUMERICAL]\n",
            "\t76 : bill_length_mm [NUMERICAL]\n",
            "\t52 : bill_depth_mm [NUMERICAL]\n",
            "\t12 : island [CATEGORICAL]\n",
            "\t3 : body_mass_g [NUMERICAL]\n",
            "\n",
            "Attribute in nodes with depth <= 1:\n",
            "\t250 : bill_length_mm [NUMERICAL]\n",
            "\t244 : flipper_length_mm [NUMERICAL]\n",
            "\t183 : bill_depth_mm [NUMERICAL]\n",
            "\t170 : island [CATEGORICAL]\n",
            "\t53 : body_mass_g [NUMERICAL]\n",
            "\n",
            "Attribute in nodes with depth <= 2:\n",
            "\t462 : bill_length_mm [NUMERICAL]\n",
            "\t320 : flipper_length_mm [NUMERICAL]\n",
            "\t310 : bill_depth_mm [NUMERICAL]\n",
            "\t287 : island [CATEGORICAL]\n",
            "\t162 : body_mass_g [NUMERICAL]\n",
            "\t9 : sex [CATEGORICAL]\n",
            "\t5 : year [NUMERICAL]\n",
            "\n",
            "Attribute in nodes with depth <= 3:\n",
            "\t669 : bill_length_mm [NUMERICAL]\n",
            "\t410 : bill_depth_mm [NUMERICAL]\n",
            "\t383 : flipper_length_mm [NUMERICAL]\n",
            "\t328 : island [CATEGORICAL]\n",
            "\t286 : body_mass_g [NUMERICAL]\n",
            "\t32 : sex [CATEGORICAL]\n",
            "\t10 : year [NUMERICAL]\n",
            "\n",
            "Attribute in nodes with depth <= 5:\n",
            "\t778 : bill_length_mm [NUMERICAL]\n",
            "\t462 : bill_depth_mm [NUMERICAL]\n",
            "\t413 : flipper_length_mm [NUMERICAL]\n",
            "\t342 : island [CATEGORICAL]\n",
            "\t338 : body_mass_g [NUMERICAL]\n",
            "\t36 : sex [CATEGORICAL]\n",
            "\t19 : year [NUMERICAL]\n",
            "\n",
            "Condition type in nodes:\n",
            "\t2012 : HigherCondition\n",
            "\t378 : ContainsBitmapCondition\n",
            "Condition type in nodes with depth <= 0:\n",
            "\t288 : HigherCondition\n",
            "\t12 : ContainsBitmapCondition\n",
            "Condition type in nodes with depth <= 1:\n",
            "\t730 : HigherCondition\n",
            "\t170 : ContainsBitmapCondition\n",
            "Condition type in nodes with depth <= 2:\n",
            "\t1259 : HigherCondition\n",
            "\t296 : ContainsBitmapCondition\n",
            "Condition type in nodes with depth <= 3:\n",
            "\t1758 : HigherCondition\n",
            "\t360 : ContainsBitmapCondition\n",
            "Condition type in nodes with depth <= 5:\n",
            "\t2010 : HigherCondition\n",
            "\t378 : ContainsBitmapCondition\n",
            "Node format: NOT_SET\n",
            "\n",
            "Training OOB:\n",
            "\ttrees: 1, Out-of-bag evaluation: accuracy:0.964286 logloss:1.28727\n",
            "\ttrees: 11, Out-of-bag evaluation: accuracy:0.956268 logloss:0.584301\n",
            "\ttrees: 21, Out-of-bag evaluation: accuracy:0.962209 logloss:0.47913\n",
            "\ttrees: 31, Out-of-bag evaluation: accuracy:0.973837 logloss:0.276354\n",
            "\ttrees: 41, Out-of-bag evaluation: accuracy:0.973837 logloss:0.172795\n",
            "\ttrees: 51, Out-of-bag evaluation: accuracy:0.973837 logloss:0.170673\n",
            "\ttrees: 61, Out-of-bag evaluation: accuracy:0.973837 logloss:0.169991\n",
            "\ttrees: 71, Out-of-bag evaluation: accuracy:0.976744 logloss:0.16945\n",
            "\ttrees: 81, Out-of-bag evaluation: accuracy:0.976744 logloss:0.169424\n",
            "\ttrees: 91, Out-of-bag evaluation: accuracy:0.976744 logloss:0.0737884\n",
            "\ttrees: 101, Out-of-bag evaluation: accuracy:0.976744 logloss:0.075868\n",
            "\ttrees: 111, Out-of-bag evaluation: accuracy:0.976744 logloss:0.0757671\n",
            "\ttrees: 121, Out-of-bag evaluation: accuracy:0.976744 logloss:0.0733247\n",
            "\ttrees: 131, Out-of-bag evaluation: accuracy:0.976744 logloss:0.0724424\n",
            "\ttrees: 141, Out-of-bag evaluation: accuracy:0.976744 logloss:0.0719669\n",
            "\ttrees: 151, Out-of-bag evaluation: accuracy:0.976744 logloss:0.0716689\n",
            "\ttrees: 161, Out-of-bag evaluation: accuracy:0.976744 logloss:0.0708315\n",
            "\ttrees: 171, Out-of-bag evaluation: accuracy:0.976744 logloss:0.0693275\n",
            "\ttrees: 181, Out-of-bag evaluation: accuracy:0.976744 logloss:0.0693504\n",
            "\ttrees: 191, Out-of-bag evaluation: accuracy:0.976744 logloss:0.0687184\n",
            "\ttrees: 201, Out-of-bag evaluation: accuracy:0.976744 logloss:0.0695946\n",
            "\ttrees: 211, Out-of-bag evaluation: accuracy:0.976744 logloss:0.0694574\n",
            "\ttrees: 221, Out-of-bag evaluation: accuracy:0.976744 logloss:0.0685634\n",
            "\ttrees: 231, Out-of-bag evaluation: accuracy:0.976744 logloss:0.0686194\n",
            "\ttrees: 241, Out-of-bag evaluation: accuracy:0.976744 logloss:0.0684372\n",
            "\ttrees: 251, Out-of-bag evaluation: accuracy:0.976744 logloss:0.0692727\n",
            "\ttrees: 261, Out-of-bag evaluation: accuracy:0.976744 logloss:0.0693785\n",
            "\ttrees: 271, Out-of-bag evaluation: accuracy:0.976744 logloss:0.0692705\n",
            "\ttrees: 281, Out-of-bag evaluation: accuracy:0.976744 logloss:0.0690692\n",
            "\ttrees: 291, Out-of-bag evaluation: accuracy:0.976744 logloss:0.0687599\n",
            "\ttrees: 300, Out-of-bag evaluation: accuracy:0.976744 logloss:0.068949\n",
            "\n"
          ]
        }
      ],
      "source": [
        "%set_cell_height 300\n",
        "\n",
        "model.summary()"
      ]
    },
    {
      "cell_type": "markdown",
      "metadata": {
        "id": "dtvAH26EfSgY"
      },
      "source": [
        "Note the multiple variable importances with name `MEAN_DECREASE_IN_*`."
      ]
    },
    {
      "cell_type": "markdown",
      "metadata": {
        "id": "xTwmx8A0c4TU"
      },
      "source": [
        "## Plotting the model\n",
        "\n",
        "Next, plot the model.\n",
        "\n",
        "A Random Forest is a large model (this model has 300 trees and ~5k nodes; see the summary above). Therefore, only plot the first tree, and limit the nodes to depth 3."
      ]
    },
    {
      "cell_type": "code",
      "execution_count": 7,
      "metadata": {
        "id": "ZRTrXDz_dIAQ",
        "outputId": "29c7540b-da1f-40db-f544-484c4dbb5963",
        "colab": {
          "base_uri": "https://localhost:8080/",
          "height": 243
        }
      },
      "outputs": [
        {
          "output_type": "execute_result",
          "data": {
            "text/plain": [
              "<IPython.core.display.HTML object>"
            ],
            "text/html": [
              "\n",
              "<script src=\"https://d3js.org/d3.v6.min.js\"></script>\n",
              "<div id=\"tree_plot_5c3ae9d07c804b2cb00973a717e6b250\"></div>\n",
              "<script>\n",
              "/*\n",
              " * Copyright 2021 Google LLC.\n",
              " * Licensed under the Apache License, Version 2.0 (the \"License\");\n",
              " * you may not use this file except in compliance with the License.\n",
              " * You may obtain a copy of the License at\n",
              " *\n",
              " *     https://www.apache.org/licenses/LICENSE-2.0\n",
              " *\n",
              " * Unless required by applicable law or agreed to in writing, software\n",
              " * distributed under the License is distributed on an \"AS IS\" BASIS,\n",
              " * WITHOUT WARRANTIES OR CONDITIONS OF ANY KIND, either express or implied.\n",
              " * See the License for the specific language governing permissions and\n",
              " * limitations under the License.\n",
              " */\n",
              "\n",
              "/**\n",
              " *  Plotting of decision trees generated by TF-DF.\n",
              " *\n",
              " *  A tree is a recursive structure of node objects.\n",
              " *  A node contains one or more of the following components:\n",
              " *\n",
              " *    - A value: Representing the output of the node. If the node is not a leaf,\n",
              " *      the value is only present for analysis i.e. it is not used for\n",
              " *      predictions.\n",
              " *\n",
              " *    - A condition : For non-leaf nodes, the condition (also known as split)\n",
              " *      defines a binary test to branch to the positive or negative child.\n",
              " *\n",
              " *    - An explanation: Generally a plot showing the relation between the label\n",
              " *      and the condition to give insights about the effect of the condition.\n",
              " *\n",
              " *    - Two children : For non-leaf nodes, the children nodes. The first\n",
              " *      children (i.e. \"node.children[0]\") is the negative children (drawn in\n",
              " *      red). The second children is the positive one (drawn in green).\n",
              " *\n",
              " */\n",
              "\n",
              "/**\n",
              " * Plots a single decision tree into a DOM element.\n",
              " * @param {!options} options Dictionary of configurations.\n",
              " * @param {!tree} raw_tree Recursive tree structure.\n",
              " * @param {string} canvas_id Id of the output dom element.\n",
              " */\n",
              "function display_tree(options, raw_tree, canvas_id) {\n",
              "  console.log(options);\n",
              "\n",
              "  // Determine the node placement.\n",
              "  const tree_struct = d3.tree().nodeSize(\n",
              "      [options.node_y_offset, options.node_x_offset])(d3.hierarchy(raw_tree));\n",
              "\n",
              "  // Boundaries of the node placement.\n",
              "  let x_min = Infinity;\n",
              "  let x_max = -x_min;\n",
              "  let y_min = Infinity;\n",
              "  let y_max = -x_min;\n",
              "\n",
              "  tree_struct.each(d => {\n",
              "    if (d.x > x_max) x_max = d.x;\n",
              "    if (d.x < x_min) x_min = d.x;\n",
              "    if (d.y > y_max) y_max = d.y;\n",
              "    if (d.y < y_min) y_min = d.y;\n",
              "  });\n",
              "\n",
              "  // Size of the plot.\n",
              "  const width = y_max - y_min + options.node_x_size + options.margin * 2;\n",
              "  const height = x_max - x_min + options.node_y_size + options.margin * 2 +\n",
              "      options.node_y_offset - options.node_y_size;\n",
              "\n",
              "  const plot = d3.select(canvas_id);\n",
              "\n",
              "  // Tool tip\n",
              "  options.tooltip = plot.append('div')\n",
              "                        .attr('width', 100)\n",
              "                        .attr('height', 100)\n",
              "                        .style('padding', '4px')\n",
              "                        .style('background', '#fff')\n",
              "                        .style('box-shadow', '4px 4px 0px rgba(0,0,0,0.1)')\n",
              "                        .style('border', '1px solid black')\n",
              "                        .style('font-family', 'sans-serif')\n",
              "                        .style('font-size', options.font_size)\n",
              "                        .style('position', 'absolute')\n",
              "                        .style('z-index', '10')\n",
              "                        .attr('pointer-events', 'none')\n",
              "                        .style('display', 'none');\n",
              "\n",
              "  // Create canvas\n",
              "  const svg = plot.append('svg').attr('width', width).attr('height', height);\n",
              "  const graph =\n",
              "      svg.style('overflow', 'visible')\n",
              "          .append('g')\n",
              "          .attr('font-family', 'sans-serif')\n",
              "          .attr('font-size', options.font_size)\n",
              "          .attr(\n",
              "              'transform',\n",
              "              () => `translate(${options.margin},${\n",
              "                  - x_min + options.node_y_offset / 2 + options.margin})`);\n",
              "\n",
              "  // Plot bounding box.\n",
              "  if (options.show_plot_bounding_box) {\n",
              "    svg.append('rect')\n",
              "        .attr('width', width)\n",
              "        .attr('height', height)\n",
              "        .attr('fill', 'none')\n",
              "        .attr('stroke-width', 1.0)\n",
              "        .attr('stroke', 'black');\n",
              "  }\n",
              "\n",
              "  // Draw the edges.\n",
              "  display_edges(options, graph, tree_struct);\n",
              "\n",
              "  // Draw the nodes.\n",
              "  display_nodes(options, graph, tree_struct);\n",
              "}\n",
              "\n",
              "/**\n",
              " * Draw the nodes of the tree.\n",
              " * @param {!options} options Dictionary of configurations.\n",
              " * @param {!graph} graph D3 search handle containing the graph.\n",
              " * @param {!tree_struct} tree_struct Structure of the tree (node placement,\n",
              " *     data, etc.).\n",
              " */\n",
              "function display_nodes(options, graph, tree_struct) {\n",
              "  const nodes = graph.append('g')\n",
              "                    .selectAll('g')\n",
              "                    .data(tree_struct.descendants())\n",
              "                    .join('g')\n",
              "                    .attr('transform', d => `translate(${d.y},${d.x})`);\n",
              "\n",
              "  nodes.append('rect')\n",
              "      .attr('x', 0.5)\n",
              "      .attr('y', 0.5)\n",
              "      .attr('width', options.node_x_size)\n",
              "      .attr('height', options.node_y_size)\n",
              "      .attr('stroke', 'lightgrey')\n",
              "      .attr('stroke-width', 1)\n",
              "      .attr('fill', 'white')\n",
              "      .attr('y', -options.node_y_size / 2);\n",
              "\n",
              "  // Brackets on the right of condition nodes without children.\n",
              "  non_leaf_node_without_children =\n",
              "      nodes.filter(node => node.data.condition != null && node.children == null)\n",
              "          .append('g')\n",
              "          .attr('transform', `translate(${options.node_x_size},0)`);\n",
              "\n",
              "  non_leaf_node_without_children.append('path')\n",
              "      .attr('d', 'M0,0 C 10,0 0,10 10,10')\n",
              "      .attr('fill', 'none')\n",
              "      .attr('stroke-width', 1.0)\n",
              "      .attr('stroke', '#F00');\n",
              "\n",
              "  non_leaf_node_without_children.append('path')\n",
              "      .attr('d', 'M0,0 C 10,0 0,-10 10,-10')\n",
              "      .attr('fill', 'none')\n",
              "      .attr('stroke-width', 1.0)\n",
              "      .attr('stroke', '#0F0');\n",
              "\n",
              "  const node_content = nodes.append('g').attr(\n",
              "      'transform',\n",
              "      `translate(0,${options.node_padding - options.node_y_size / 2})`);\n",
              "\n",
              "  node_content.append(node => create_node_element(options, node));\n",
              "}\n",
              "\n",
              "/**\n",
              " * Creates the D3 content for a single node.\n",
              " * @param {!options} options Dictionary of configurations.\n",
              " * @param {!node} node Node to draw.\n",
              " * @return {!d3} D3 content.\n",
              " */\n",
              "function create_node_element(options, node) {\n",
              "  // Output accumulator.\n",
              "  let output = {\n",
              "    // Content to draw.\n",
              "    content: d3.create('svg:g'),\n",
              "    // Vertical offset to the next element to draw.\n",
              "    vertical_offset: 0\n",
              "  };\n",
              "\n",
              "  // Conditions.\n",
              "  if (node.data.condition != null) {\n",
              "    display_condition(options, node.data.condition, output);\n",
              "  }\n",
              "\n",
              "  // Values.\n",
              "  if (node.data.value != null) {\n",
              "    display_value(options, node.data.value, output);\n",
              "  }\n",
              "\n",
              "  // Explanations.\n",
              "  if (node.data.explanation != null) {\n",
              "    display_explanation(options, node.data.explanation, output);\n",
              "  }\n",
              "\n",
              "  return output.content.node();\n",
              "}\n",
              "\n",
              "\n",
              "/**\n",
              " * Adds a single line of text inside of a node.\n",
              " * @param {!options} options Dictionary of configurations.\n",
              " * @param {string} text Text to display.\n",
              " * @param {!output} output Output display accumulator.\n",
              " */\n",
              "function display_node_text(options, text, output) {\n",
              "  output.content.append('text')\n",
              "      .attr('x', options.node_padding)\n",
              "      .attr('y', output.vertical_offset)\n",
              "      .attr('alignment-baseline', 'hanging')\n",
              "      .text(text);\n",
              "  output.vertical_offset += 10;\n",
              "}\n",
              "\n",
              "/**\n",
              " * Adds a single line of text inside of a node with a tooltip.\n",
              " * @param {!options} options Dictionary of configurations.\n",
              " * @param {string} text Text to display.\n",
              " * @param {string} tooltip Text in the Tooltip.\n",
              " * @param {!output} output Output display accumulator.\n",
              " */\n",
              "function display_node_text_with_tooltip(options, text, tooltip, output) {\n",
              "  const item = output.content.append('text')\n",
              "                   .attr('x', options.node_padding)\n",
              "                   .attr('alignment-baseline', 'hanging')\n",
              "                   .text(text);\n",
              "\n",
              "  add_tooltip(options, item, () => tooltip);\n",
              "  output.vertical_offset += 10;\n",
              "}\n",
              "\n",
              "/**\n",
              " * Adds a tooltip to a dom element.\n",
              " * @param {!options} options Dictionary of configurations.\n",
              " * @param {!dom} target Dom element to equip with a tooltip.\n",
              " * @param {!func} get_content Generates the html content of the tooltip.\n",
              " */\n",
              "function add_tooltip(options, target, get_content) {\n",
              "  function show(d) {\n",
              "    options.tooltip.style('display', 'block');\n",
              "    options.tooltip.html(get_content());\n",
              "  }\n",
              "\n",
              "  function hide(d) {\n",
              "    options.tooltip.style('display', 'none');\n",
              "  }\n",
              "\n",
              "  function move(d) {\n",
              "    options.tooltip.style('display', 'block');\n",
              "    options.tooltip.style('left', (d.pageX + 5) + 'px');\n",
              "    options.tooltip.style('top', d.pageY + 'px');\n",
              "  }\n",
              "\n",
              "  target.on('mouseover', show);\n",
              "  target.on('mouseout', hide);\n",
              "  target.on('mousemove', move);\n",
              "}\n",
              "\n",
              "/**\n",
              " * Adds a condition inside of a node.\n",
              " * @param {!options} options Dictionary of configurations.\n",
              " * @param {!condition} condition Condition to display.\n",
              " * @param {!output} output Output display accumulator.\n",
              " */\n",
              "function display_condition(options, condition, output) {\n",
              "  threshold_format = d3.format('r');\n",
              "\n",
              "  if (condition.type === 'IS_MISSING') {\n",
              "    display_node_text(options, `${condition.attribute} is missing`, output);\n",
              "    return;\n",
              "  }\n",
              "\n",
              "  if (condition.type === 'IS_TRUE') {\n",
              "    display_node_text(options, `${condition.attribute} is true`, output);\n",
              "    return;\n",
              "  }\n",
              "\n",
              "  if (condition.type === 'NUMERICAL_IS_HIGHER_THAN') {\n",
              "    format = d3.format('r');\n",
              "    display_node_text(\n",
              "        options,\n",
              "        `${condition.attribute} >= ${threshold_format(condition.threshold)}`,\n",
              "        output);\n",
              "    return;\n",
              "  }\n",
              "\n",
              "  if (condition.type === 'CATEGORICAL_IS_IN') {\n",
              "    display_node_text_with_tooltip(\n",
              "        options, `${condition.attribute} in [...]`,\n",
              "        `${condition.attribute} in [${condition.mask}]`, output);\n",
              "    return;\n",
              "  }\n",
              "\n",
              "  if (condition.type === 'CATEGORICAL_SET_CONTAINS') {\n",
              "    display_node_text_with_tooltip(\n",
              "        options, `${condition.attribute} intersect [...]`,\n",
              "        `${condition.attribute} intersect [${condition.mask}]`, output);\n",
              "    return;\n",
              "  }\n",
              "\n",
              "  if (condition.type === 'NUMERICAL_SPARSE_OBLIQUE') {\n",
              "    display_node_text_with_tooltip(\n",
              "        options, `Sparse oblique split...`,\n",
              "        `[${condition.attributes}]*[${condition.weights}]>=${\n",
              "            threshold_format(condition.threshold)}`,\n",
              "        output);\n",
              "    return;\n",
              "  }\n",
              "\n",
              "  display_node_text(\n",
              "      options, `Non supported condition ${condition.type}`, output);\n",
              "}\n",
              "\n",
              "/**\n",
              " * Adds a value inside of a node.\n",
              " * @param {!options} options Dictionary of configurations.\n",
              " * @param {!value} value Value to display.\n",
              " * @param {!output} output Output display accumulator.\n",
              " */\n",
              "function display_value(options, value, output) {\n",
              "  if (value.type === 'PROBABILITY') {\n",
              "    const left_margin = 0;\n",
              "    const right_margin = 50;\n",
              "    const plot_width = options.node_x_size - options.node_padding * 2 -\n",
              "        left_margin - right_margin;\n",
              "\n",
              "    let cusum = Array.from(d3.cumsum(value.distribution));\n",
              "    cusum.unshift(0);\n",
              "    const distribution_plot = output.content.append('g').attr(\n",
              "        'transform', `translate(0,${output.vertical_offset + 0.5})`);\n",
              "\n",
              "    distribution_plot.selectAll('rect')\n",
              "        .data(value.distribution)\n",
              "        .join('rect')\n",
              "        .attr('height', 10)\n",
              "        .attr(\n",
              "            'x',\n",
              "            (d, i) =>\n",
              "                (cusum[i] * plot_width + left_margin + options.node_padding))\n",
              "        .attr('width', (d, i) => d * plot_width)\n",
              "        .style('fill', (d, i) => d3.schemeSet1[i]);\n",
              "\n",
              "    const num_examples =\n",
              "        output.content.append('g')\n",
              "            .attr('transform', `translate(0,${output.vertical_offset})`)\n",
              "            .append('text')\n",
              "            .attr('x', options.node_x_size - options.node_padding)\n",
              "            .attr('alignment-baseline', 'hanging')\n",
              "            .attr('text-anchor', 'end')\n",
              "            .text(`(${value.num_examples})`);\n",
              "\n",
              "    const distribution_details = d3.create('ul');\n",
              "    distribution_details.selectAll('li')\n",
              "        .data(value.distribution)\n",
              "        .join('li')\n",
              "        .append('span')\n",
              "        .text(\n",
              "            (d, i) =>\n",
              "                'class ' + i + ': ' + d3.format('.3%')(value.distribution[i]));\n",
              "\n",
              "    add_tooltip(options, distribution_plot, () => distribution_details.html());\n",
              "    add_tooltip(options, num_examples, () => 'Number of examples');\n",
              "\n",
              "    output.vertical_offset += 10;\n",
              "    return;\n",
              "  }\n",
              "\n",
              "  if (value.type === 'REGRESSION') {\n",
              "    display_node_text(\n",
              "        options,\n",
              "        'value: ' + d3.format('r')(value.value) + ` (` +\n",
              "            d3.format('.6')(value.num_examples) + `)`,\n",
              "        output);\n",
              "    return;\n",
              "  }\n",
              "\n",
              "  display_node_text(options, `Non supported value ${value.type}`, output);\n",
              "}\n",
              "\n",
              "/**\n",
              " * Adds an explanation inside of a node.\n",
              " * @param {!options} options Dictionary of configurations.\n",
              " * @param {!explanation} explanation Explanation to display.\n",
              " * @param {!output} output Output display accumulator.\n",
              " */\n",
              "function display_explanation(options, explanation, output) {\n",
              "  // Margin before the explanation.\n",
              "  output.vertical_offset += 10;\n",
              "\n",
              "  display_node_text(\n",
              "      options, `Non supported explanation ${explanation.type}`, output);\n",
              "}\n",
              "\n",
              "\n",
              "/**\n",
              " * Draw the edges of the tree.\n",
              " * @param {!options} options Dictionary of configurations.\n",
              " * @param {!graph} graph D3 search handle containing the graph.\n",
              " * @param {!tree_struct} tree_struct Structure of the tree (node placement,\n",
              " *     data, etc.).\n",
              " */\n",
              "function display_edges(options, graph, tree_struct) {\n",
              "  // Draw an edge between a parent and a child node with a bezier.\n",
              "  function draw_single_edge(d) {\n",
              "    return 'M' + (d.source.y + options.node_x_size) + ',' + d.source.x + ' C' +\n",
              "        (d.source.y + options.node_x_size + options.edge_rounding) + ',' +\n",
              "        d.source.x + ' ' + (d.target.y - options.edge_rounding) + ',' +\n",
              "        d.target.x + ' ' + d.target.y + ',' + d.target.x;\n",
              "  }\n",
              "\n",
              "  graph.append('g')\n",
              "      .attr('fill', 'none')\n",
              "      .attr('stroke-width', 1.2)\n",
              "      .selectAll('path')\n",
              "      .data(tree_struct.links())\n",
              "      .join('path')\n",
              "      .attr('d', draw_single_edge)\n",
              "      .attr(\n",
              "          'stroke', d => (d.target === d.source.children[0]) ? '#0F0' : '#F00');\n",
              "}\n",
              "\n",
              "display_tree({\"margin\": 10, \"node_x_size\": 160, \"node_y_size\": 28, \"node_x_offset\": 180, \"node_y_offset\": 33, \"font_size\": 10, \"edge_rounding\": 20, \"node_padding\": 2, \"show_plot_bounding_box\": false}, {\"value\": {\"type\": \"PROBABILITY\", \"distribution\": [0.47093023255813954, 0.19476744186046513, 0.33430232558139533], \"num_examples\": 344.0}, \"condition\": {\"type\": \"NUMERICAL_IS_HIGHER_THAN\", \"attribute\": \"bill_length_mm\", \"threshold\": 43.25}, \"children\": [{\"value\": {\"type\": \"PROBABILITY\", \"distribution\": [0.005847953216374269, 0.3567251461988304, 0.6374269005847953], \"num_examples\": 171.0}, \"condition\": {\"type\": \"CATEGORICAL_IS_IN\", \"attribute\": \"island\", \"mask\": [\"Biscoe\"]}, \"children\": [{\"value\": {\"type\": \"PROBABILITY\", \"distribution\": [0.00909090909090909, 0.0, 0.990909090909091], \"num_examples\": 110.0}, \"condition\": {\"type\": \"NUMERICAL_IS_HIGHER_THAN\", \"attribute\": \"bill_depth_mm\", \"threshold\": 17.225584030151367}, \"children\": [{\"value\": {\"type\": \"PROBABILITY\", \"distribution\": [0.16666666666666666, 0.0, 0.8333333333333334], \"num_examples\": 6.0}}, {\"value\": {\"type\": \"PROBABILITY\", \"distribution\": [0.0, 0.0, 1.0], \"num_examples\": 104.0}}]}, {\"value\": {\"type\": \"PROBABILITY\", \"distribution\": [0.0, 1.0, 0.0], \"num_examples\": 61.0}}]}, {\"value\": {\"type\": \"PROBABILITY\", \"distribution\": [0.930635838150289, 0.03468208092485549, 0.03468208092485549], \"num_examples\": 173.0}, \"condition\": {\"type\": \"NUMERICAL_IS_HIGHER_THAN\", \"attribute\": \"bill_depth_mm\", \"threshold\": 15.100000381469727}, \"children\": [{\"value\": {\"type\": \"PROBABILITY\", \"distribution\": [0.9640718562874252, 0.03592814371257485, 0.0], \"num_examples\": 167.0}, \"condition\": {\"type\": \"NUMERICAL_IS_HIGHER_THAN\", \"attribute\": \"flipper_length_mm\", \"threshold\": 187.5}, \"children\": [{\"value\": {\"type\": \"PROBABILITY\", \"distribution\": [1.0, 0.0, 0.0], \"num_examples\": 104.0}}, {\"value\": {\"type\": \"PROBABILITY\", \"distribution\": [0.9047619047619048, 0.09523809523809523, 0.0], \"num_examples\": 63.0}, \"condition\": {\"type\": \"NUMERICAL_IS_HIGHER_THAN\", \"attribute\": \"bill_length_mm\", \"threshold\": 42.30000305175781}}]}, {\"value\": {\"type\": \"PROBABILITY\", \"distribution\": [0.0, 0.0, 1.0], \"num_examples\": 6.0}}]}]}, \"#tree_plot_5c3ae9d07c804b2cb00973a717e6b250\")\n",
              "</script>\n"
            ]
          },
          "metadata": {},
          "execution_count": 7
        }
      ],
      "source": [
        "tfdf.model_plotter.plot_model_in_colab(model, tree_idx=0, max_depth=3)"
      ]
    },
    {
      "cell_type": "markdown",
      "metadata": {
        "id": "lOlieoz2c-GA"
      },
      "source": [
        "## Inspect the model structure\n",
        "\n",
        "The model structure and meta-data is\n",
        "available through the **inspector** created by `make_inspector()`.\n",
        "\n",
        "**Note:** Depending on the learning algorithm and hyper-parameters, the\n",
        "inspector will expose different specialized attributes. For examples, the\n",
        "`winner_take_all` field is specific to Random Forest models."
      ]
    },
    {
      "cell_type": "code",
      "execution_count": 8,
      "metadata": {
        "id": "KHc8IcW1c8ER"
      },
      "outputs": [],
      "source": [
        "inspector = model.make_inspector()"
      ]
    },
    {
      "cell_type": "markdown",
      "metadata": {
        "id": "RDdUhqaSsNnQ"
      },
      "source": [
        "For our model, the available inspector fields are:"
      ]
    },
    {
      "cell_type": "code",
      "execution_count": 9,
      "metadata": {
        "id": "jx54DFjRsA7k",
        "outputId": "31809cd1-1825-4015-c838-a829ecfcb499",
        "colab": {
          "base_uri": "https://localhost:8080/"
        }
      },
      "outputs": [
        {
          "output_type": "execute_result",
          "data": {
            "text/plain": [
              "['MODEL_NAME',\n",
              " 'dataspec',\n",
              " 'evaluation',\n",
              " 'export_to_tensorboard',\n",
              " 'extract_all_trees',\n",
              " 'extract_tree',\n",
              " 'features',\n",
              " 'header',\n",
              " 'iterate_on_nodes',\n",
              " 'label',\n",
              " 'label_classes',\n",
              " 'metadata',\n",
              " 'model_type',\n",
              " 'num_trees',\n",
              " 'objective',\n",
              " 'specialized_header',\n",
              " 'task',\n",
              " 'training_logs',\n",
              " 'tuning_logs',\n",
              " 'variable_importances',\n",
              " 'winner_take_all_inference']"
            ]
          },
          "metadata": {},
          "execution_count": 9
        }
      ],
      "source": [
        "[field for field in dir(inspector) if not field.startswith(\"_\")]"
      ]
    },
    {
      "cell_type": "markdown",
      "metadata": {
        "id": "_QJFITMQsgtK"
      },
      "source": [
        "Remember to see [the API-reference](https://tensorflow.org/decision_forests/api_docs/python/tfdf/inspector/AbstractInspector) or use `?` for the builtin documentation."
      ]
    },
    {
      "cell_type": "code",
      "execution_count": 10,
      "metadata": {
        "id": "YCGkpRkssdCb"
      },
      "outputs": [],
      "source": [
        "?inspector.model_type"
      ]
    },
    {
      "cell_type": "markdown",
      "metadata": {
        "id": "nd-fOgmjd1oK"
      },
      "source": [
        "Some of the model meta-data:"
      ]
    },
    {
      "cell_type": "code",
      "execution_count": 11,
      "metadata": {
        "id": "Iu_To_z9d35G",
        "outputId": "84934f78-7b14-4b81-da97-3b3daaa2e800",
        "colab": {
          "base_uri": "https://localhost:8080/"
        }
      },
      "outputs": [
        {
          "output_type": "stream",
          "name": "stdout",
          "text": [
            "Model type: RANDOM_FOREST\n",
            "Number of trees: 300\n",
            "Objective: Classification(label=__LABEL, class=None, num_classes=3)\n",
            "Input features: [\"bill_depth_mm\" (1; #0), \"bill_length_mm\" (1; #1), \"body_mass_g\" (1; #2), \"flipper_length_mm\" (1; #3), \"island\" (4; #4), \"sex\" (4; #5), \"year\" (1; #6)]\n"
          ]
        }
      ],
      "source": [
        "print(\"Model type:\", inspector.model_type())\n",
        "print(\"Number of trees:\", inspector.num_trees())\n",
        "print(\"Objective:\", inspector.objective())\n",
        "print(\"Input features:\", inspector.features())"
      ]
    },
    {
      "cell_type": "markdown",
      "metadata": {
        "id": "Zs7b8EBud9JM"
      },
      "source": [
        "`evaluate()` is the evaluation of the model computed during training. The dataset used for this evaluation depends on the algorithm. For example, it can be the validation dataset or the out-of-bag-dataset .\n",
        "\n",
        "**Note:** While computed during training, `evaluate()` is never an evaluation on the\n",
        "training dataset."
      ]
    },
    {
      "cell_type": "code",
      "execution_count": 12,
      "metadata": {
        "id": "uVN-j0E4Q1T3",
        "outputId": "59ef2a55-6a36-4e61-9478-b6c2b48f66d1",
        "colab": {
          "base_uri": "https://localhost:8080/"
        }
      },
      "outputs": [
        {
          "output_type": "execute_result",
          "data": {
            "text/plain": [
              "Evaluation(num_examples=344, accuracy=0.9767441860465116, loss=0.06894904488784283, rmse=None, ndcg=None, aucs=None, auuc=None, qini=None)"
            ]
          },
          "metadata": {},
          "execution_count": 12
        }
      ],
      "source": [
        "inspector.evaluation()"
      ]
    },
    {
      "cell_type": "markdown",
      "metadata": {
        "id": "2r6Yrjb7f5KH"
      },
      "source": [
        "The variable importances are:"
      ]
    },
    {
      "cell_type": "code",
      "execution_count": 13,
      "metadata": {
        "id": "qoqhhmGjf7ED",
        "outputId": "8fc62261-0c24-48c8-c45e-06436a84f968",
        "colab": {
          "base_uri": "https://localhost:8080/"
        }
      },
      "outputs": [
        {
          "output_type": "stream",
          "name": "stdout",
          "text": [
            "Available variable importances:\n",
            "\t MEAN_DECREASE_IN_AP_1_VS_OTHERS\n",
            "\t MEAN_DECREASE_IN_AUC_2_VS_OTHERS\n",
            "\t MEAN_DECREASE_IN_PRAUC_2_VS_OTHERS\n",
            "\t MEAN_DECREASE_IN_AUC_1_VS_OTHERS\n",
            "\t MEAN_MIN_DEPTH\n",
            "\t MEAN_DECREASE_IN_ACCURACY\n",
            "\t MEAN_DECREASE_IN_PRAUC_1_VS_OTHERS\n",
            "\t MEAN_DECREASE_IN_AUC_3_VS_OTHERS\n",
            "\t MEAN_DECREASE_IN_AP_3_VS_OTHERS\n",
            "\t MEAN_DECREASE_IN_PRAUC_3_VS_OTHERS\n",
            "\t MEAN_DECREASE_IN_AP_2_VS_OTHERS\n",
            "\t NUM_NODES\n",
            "\t SUM_SCORE\n",
            "\t NUM_AS_ROOT\n"
          ]
        }
      ],
      "source": [
        "print(f\"Available variable importances:\")\n",
        "for importance in inspector.variable_importances().keys():\n",
        "  print(\"\\t\", importance)"
      ]
    },
    {
      "cell_type": "markdown",
      "metadata": {
        "id": "8QUW8w-UmCoW"
      },
      "source": [
        "Different variable importances have different semantics. For example, a feature\n",
        "with a **mean decrease in auc** of `0.05` means that removing this feature from\n",
        "the training dataset would reduce/hurt the AUC by 5%."
      ]
    },
    {
      "cell_type": "code",
      "execution_count": 14,
      "metadata": {
        "id": "OoSG5T8ShSdG",
        "outputId": "c29685a9-3e64-4cb4-9432-d0f479a5567c",
        "colab": {
          "base_uri": "https://localhost:8080/"
        }
      },
      "outputs": [
        {
          "output_type": "execute_result",
          "data": {
            "text/plain": [
              "[(\"bill_length_mm\" (1; #1), 0.0713061951754389),\n",
              " (\"island\" (4; #4), 0.007298519736842035),\n",
              " (\"flipper_length_mm\" (1; #3), 0.004505893640351366),\n",
              " (\"bill_depth_mm\" (1; #0), 0.0021244517543865804),\n",
              " (\"body_mass_g\" (1; #2), 0.0005482456140351033),\n",
              " (\"sex\" (4; #5), 0.00047971491228060437),\n",
              " (\"year\" (1; #6), 0.0)]"
            ]
          },
          "metadata": {},
          "execution_count": 14
        }
      ],
      "source": [
        "# Mean decrease in AUC of the class 1 vs the others.\n",
        "inspector.variable_importances()[\"MEAN_DECREASE_IN_AUC_1_VS_OTHERS\"]"
      ]
    },
    {
      "cell_type": "markdown",
      "metadata": {
        "id": "afSPSBg_uJuI"
      },
      "source": [
        "Plot the variable importances from the inspector using Matplotlib"
      ]
    },
    {
      "cell_type": "code",
      "execution_count": 15,
      "metadata": {
        "id": "53lM0wDmuI8u",
        "outputId": "9a9c4721-a862-491a-e37d-e31146ed08f0",
        "colab": {
          "base_uri": "https://localhost:8080/",
          "height": 230
        }
      },
      "outputs": [
        {
          "output_type": "display_data",
          "data": {
            "text/plain": [
              "<Figure size 864x288 with 1 Axes>"
            ],
            "image/png": "[encoded data removed]"
          },
          "metadata": {
            "needs_background": "light"
          }
        }
      ],
      "source": [
        "import matplotlib.pyplot as plt\n",
        "\n",
        "plt.figure(figsize=(12, 4))\n",
        "\n",
        "# Mean decrease in AUC of the class 1 vs the others.\n",
        "variable_importance_metric = \"MEAN_DECREASE_IN_AUC_1_VS_OTHERS\"\n",
        "variable_importances = inspector.variable_importances()[variable_importance_metric]\n",
        "\n",
        "# Extract the feature name and importance values.\n",
        "#\n",
        "# `variable_importances` is a list of <feature, importance> tuples.\n",
        "feature_names = [vi[0].name for vi in variable_importances]\n",
        "feature_importances = [vi[1] for vi in variable_importances]\n",
        "# The feature are ordered in decreasing importance value.\n",
        "feature_ranks = range(len(feature_names))\n",
        "\n",
        "bar = plt.barh(feature_ranks, feature_importances, label=[str(x) for x in feature_ranks])\n",
        "plt.yticks(feature_ranks, feature_names)\n",
        "plt.gca().invert_yaxis()\n",
        "\n",
        "# TODO: Replace with \"plt.bar_label()\" when available.\n",
        "# Label each bar with values\n",
        "for importance, patch in zip(feature_importances, bar.patches):\n",
        "  plt.text(patch.get_x() + patch.get_width(), patch.get_y(), f\"{importance:.4f}\", va=\"top\")\n",
        "\n",
        "plt.xlabel(variable_importance_metric)\n",
        "plt.title(\"Mean decrease in AUC of the class 1 vs the others\")\n",
        "plt.tight_layout()\n",
        "plt.show()"
      ]
    },
    {
      "cell_type": "markdown",
      "metadata": {
        "id": "q_-kLTNjhaQo"
      },
      "source": [
        "Finally, access the actual tree structure:"
      ]
    },
    {
      "cell_type": "code",
      "execution_count": 16,
      "metadata": {
        "id": "l4N_heuzhcUS",
        "outputId": "203d61ce-1792-4acd-ef41-d19ee95f758c",
        "colab": {
          "base_uri": "https://localhost:8080/"
        }
      },
      "outputs": [
        {
          "output_type": "execute_result",
          "data": {
            "text/plain": [
              "Tree(root=NonLeafNode(condition=(bill_length_mm >= 43.25; miss=True, score=0.5482327342033386), pos_child=NonLeafNode(condition=(island in ['Biscoe']; miss=True, score=0.6515106558799744), pos_child=NonLeafNode(condition=(bill_depth_mm >= 17.225584030151367; miss=False, score=0.027205035090446472), pos_child=LeafNode(value=ProbabilityValue([0.16666666666666666, 0.0, 0.8333333333333334],n=6.0), idx=7), neg_child=LeafNode(value=ProbabilityValue([0.0, 0.0, 1.0],n=104.0), idx=6), value=ProbabilityValue([0.00909090909090909, 0.0, 0.990909090909091],n=110.0)), neg_child=LeafNode(value=ProbabilityValue([0.0, 1.0, 0.0],n=61.0), idx=5), value=ProbabilityValue([0.005847953216374269, 0.3567251461988304, 0.6374269005847953],n=171.0)), neg_child=NonLeafNode(condition=(bill_depth_mm >= 15.100000381469727; miss=True, score=0.150658518075943), pos_child=NonLeafNode(condition=(flipper_length_mm >= 187.5; miss=True, score=0.036139510571956635), pos_child=LeafNode(value=ProbabilityValue([1.0, 0.0, 0.0],n=104.0), idx=4), neg_child=NonLeafNode(condition=(bill_length_mm >= 42.30000305175781; miss=True, score=0.23430533707141876), pos_child=LeafNode(value=ProbabilityValue([0.0, 1.0, 0.0],n=5.0), idx=3), neg_child=NonLeafNode(condition=(bill_length_mm >= 40.55000305175781; miss=True, score=0.043961383402347565), pos_child=LeafNode(value=ProbabilityValue([0.8, 0.2, 0.0],n=5.0), idx=2), neg_child=LeafNode(value=ProbabilityValue([1.0, 0.0, 0.0],n=53.0), idx=1), value=ProbabilityValue([0.9827586206896551, 0.017241379310344827, 0.0],n=58.0)), value=ProbabilityValue([0.9047619047619048, 0.09523809523809523, 0.0],n=63.0)), value=ProbabilityValue([0.9640718562874252, 0.03592814371257485, 0.0],n=167.0)), neg_child=LeafNode(value=ProbabilityValue([0.0, 0.0, 1.0],n=6.0), idx=0), value=ProbabilityValue([0.930635838150289, 0.03468208092485549, 0.03468208092485549],n=173.0)), value=ProbabilityValue([0.47093023255813954, 0.19476744186046513, 0.33430232558139533],n=344.0)), label_classes=None)"
            ]
          },
          "metadata": {},
          "execution_count": 16
        }
      ],
      "source": [
        "inspector.extract_tree(tree_idx=0)"
      ]
    },
    {
      "cell_type": "markdown",
      "metadata": {
        "id": "B8u_0p80hoeP"
      },
      "source": [
        "Extracting a tree is not efficient. If speed is important, the model inspection can be done with the `iterate_on_nodes()` method instead. This method is a Depth First Pre-order traversals iterator on all the nodes of the model.\n",
        "\n",
        "**Note:** `extract_tree()` is implemented using `iterate_on_nodes()`.\n",
        "\n",
        "For following example computes how many times each feature is used (this is a\n",
        "kind of structural variable importance):"
      ]
    },
    {
      "cell_type": "code",
      "execution_count": 17,
      "metadata": {
        "id": "OUEpes34iHg8",
        "outputId": "4d6e94ab-c242-4aef-f758-a3b0f492d9be",
        "colab": {
          "base_uri": "https://localhost:8080/"
        }
      },
      "outputs": [
        {
          "output_type": "stream",
          "name": "stdout",
          "text": [
            "Number of condition nodes per features:\n",
            "\t bill_length_mm : 778\n",
            "\t bill_depth_mm : 463\n",
            "\t flipper_length_mm : 414\n",
            "\t island : 342\n",
            "\t body_mass_g : 338\n",
            "\t year : 19\n",
            "\t sex : 36\n"
          ]
        }
      ],
      "source": [
        "# number_of_use[F] will be the number of node using feature F in its condition.\n",
        "number_of_use = collections.defaultdict(lambda: 0)\n",
        "\n",
        "# Iterate over all the nodes in a Depth First Pre-order traversals.\n",
        "for node_iter in inspector.iterate_on_nodes():\n",
        "\n",
        "  if not isinstance(node_iter.node, tfdf.py_tree.node.NonLeafNode):\n",
        "    # Skip the leaf nodes\n",
        "    continue\n",
        "\n",
        "  # Iterate over all the features used in the condition.\n",
        "  # By default, models are \"oblique\" i.e. each node tests a single feature.\n",
        "  for feature in node_iter.node.condition.features():\n",
        "    number_of_use[feature] += 1\n",
        "\n",
        "print(\"Number of condition nodes per features:\")\n",
        "for feature, count in number_of_use.items():\n",
        "  print(\"\\t\", feature.name, \":\", count)"
      ]
    },
    {
      "cell_type": "markdown",
      "metadata": {
        "id": "CD39OmGbnPww"
      },
      "source": [
        "## Creating a model by hand\n",
        "\n",
        "In this section you will create a small Random Forest model by hand. To make it\n",
        "extra easy, the model will only contain one simple tree:\n",
        "\n",
        "```\n",
        "3 label classes: Red, blue and green.\n",
        "2 features: f1 (numerical) and f2 (string categorical)\n",
        "\n",
        "f1>=1.5\n",
        "    ├─(pos)─ f2 in [\"cat\",\"dog\"]\n",
        "    │         ├─(pos)─ value: [0.8, 0.1, 0.1]\n",
        "    │         └─(neg)─ value: [0.1, 0.8, 0.1]\n",
        "    └─(neg)─ value: [0.1, 0.1, 0.8]\n",
        "```"
      ]
    },
    {
      "cell_type": "code",
      "execution_count": 18,
      "metadata": {
        "id": "fGGe5IxdnuEa"
      },
      "outputs": [],
      "source": [
        "# Create the model builder\n",
        "builder = tfdf.builder.RandomForestBuilder(\n",
        "    path=\"/tmp/manual_model\",\n",
        "    objective=tfdf.py_tree.objective.ClassificationObjective(\n",
        "        label=\"color\", classes=[\"red\", \"blue\", \"green\"]))"
      ]
    },
    {
      "cell_type": "markdown",
      "metadata": {
        "id": "DRnJ2u-Moqbf"
      },
      "source": [
        "Each tree is added one by one.\n",
        "\n",
        "**Note:** The tree object (`tfdf.py_tree.tree.Tree`) is the same as the one returned by `extract_tree()` in the previous section."
      ]
    },
    {
      "cell_type": "code",
      "execution_count": 19,
      "metadata": {
        "id": "cmAddPhAo0tG"
      },
      "outputs": [],
      "source": [
        "# So alias\n",
        "Tree = tfdf.py_tree.tree.Tree\n",
        "SimpleColumnSpec = tfdf.py_tree.dataspec.SimpleColumnSpec\n",
        "ColumnType = tfdf.py_tree.dataspec.ColumnType\n",
        "# Nodes\n",
        "NonLeafNode = tfdf.py_tree.node.NonLeafNode\n",
        "LeafNode = tfdf.py_tree.node.LeafNode\n",
        "# Conditions\n",
        "NumericalHigherThanCondition = tfdf.py_tree.condition.NumericalHigherThanCondition\n",
        "CategoricalIsInCondition = tfdf.py_tree.condition.CategoricalIsInCondition\n",
        "# Leaf values\n",
        "ProbabilityValue = tfdf.py_tree.value.ProbabilityValue\n",
        "\n",
        "builder.add_tree(\n",
        "    Tree(\n",
        "        NonLeafNode(\n",
        "            condition=NumericalHigherThanCondition(\n",
        "                feature=SimpleColumnSpec(name=\"f1\", type=ColumnType.NUMERICAL),\n",
        "                threshold=1.5,\n",
        "                missing_evaluation=False),\n",
        "            pos_child=NonLeafNode(\n",
        "                condition=CategoricalIsInCondition(\n",
        "                    feature=SimpleColumnSpec(name=\"f2\",type=ColumnType.CATEGORICAL),\n",
        "                    mask=[\"cat\", \"dog\"],\n",
        "                    missing_evaluation=False),\n",
        "                pos_child=LeafNode(value=ProbabilityValue(probability=[0.8, 0.1, 0.1], num_examples=10)),\n",
        "                neg_child=LeafNode(value=ProbabilityValue(probability=[0.1, 0.8, 0.1], num_examples=20))),\n",
        "            neg_child=LeafNode(value=ProbabilityValue(probability=[0.1, 0.1, 0.8], num_examples=30)))))"
      ]
    },
    {
      "cell_type": "markdown",
      "metadata": {
        "id": "DjWdgRNNqEAD"
      },
      "source": [
        "Conclude the tree writing"
      ]
    },
    {
      "cell_type": "code",
      "execution_count": 20,
      "metadata": {
        "id": "cJqn4khxqH6t",
        "outputId": "fa70aa4f-4f26-44a9-8949-fd44897ffd99",
        "colab": {
          "base_uri": "https://localhost:8080/"
        }
      },
      "outputs": [
        {
          "output_type": "stream",
          "name": "stderr",
          "text": [
            "WARNING:absl:Found untraced functions such as call_get_leaves, _update_step_xla while saving (showing 2 of 2). These functions will not be directly callable after loading.\n"
          ]
        }
      ],
      "source": [
        "builder.close()"
      ]
    },
    {
      "cell_type": "markdown",
      "metadata": {
        "id": "_oxxXAn7qK-z"
      },
      "source": [
        "Now you can open the model as a regular keras model, and make predictions:"
      ]
    },
    {
      "cell_type": "code",
      "execution_count": 21,
      "metadata": {
        "id": "ETwjOJ5uqP5i"
      },
      "outputs": [],
      "source": [
        "manual_model = tf.keras.models.load_model(\"/tmp/manual_model\")"
      ]
    },
    {
      "cell_type": "code",
      "execution_count": 22,
      "metadata": {
        "id": "qlC4N-LuqWWR",
        "outputId": "1f7b1bae-169a-4aa5-bf76-e051934003fe",
        "colab": {
          "base_uri": "https://localhost:8080/"
        }
      },
      "outputs": [
        {
          "output_type": "stream",
          "name": "stdout",
          "text": [
            "2/2 [==============================] - 0s 5ms/step\n",
            "predictions:\n",
            " [[0.1 0.1 0.8]\n",
            " [0.8 0.1 0.1]\n",
            " [0.1 0.8 0.1]]\n"
          ]
        }
      ],
      "source": [
        "examples = tf.data.Dataset.from_tensor_slices({\n",
        "        \"f1\": [1.0, 2.0, 3.0],\n",
        "        \"f2\": [\"cat\", \"cat\", \"bird\"]\n",
        "    }).batch(2)\n",
        "\n",
        "predictions = manual_model.predict(examples)\n",
        "\n",
        "print(\"predictions:\\n\",predictions)"
      ]
    },
    {
      "cell_type": "markdown",
      "metadata": {
        "id": "mxJyp1mKFPXb"
      },
      "source": [
        "Access the structure:\n",
        "\n",
        "**Note:** Because the model is serialized-and-deserialized, you need to use an alternative but equivalent form."
      ]
    },
    {
      "cell_type": "code",
      "execution_count": 23,
      "metadata": {
        "id": "IjcyMHJUFO_B",
        "outputId": "61552dc1-fe48-4437-f613-f0d656c386b3",
        "colab": {
          "base_uri": "https://localhost:8080/"
        }
      },
      "outputs": [
        {
          "output_type": "stream",
          "name": "stdout",
          "text": [
            "yggdrasil_model_path: /tmp/manual_model/assets/\n",
            "Input features: [\"f1\" (1; #1), \"f2\" (4; #2)]\n"
          ]
        }
      ],
      "source": [
        "yggdrasil_model_path = manual_model.yggdrasil_model_path_tensor().numpy().decode(\"utf-8\")\n",
        "print(\"yggdrasil_model_path:\",yggdrasil_model_path)\n",
        "\n",
        "inspector = tfdf.inspector.make_inspector(yggdrasil_model_path)\n",
        "print(\"Input features:\", inspector.features())"
      ]
    },
    {
      "cell_type": "markdown",
      "metadata": {
        "id": "muW1hgmotx8J"
      },
      "source": [
        "And of course, you can plot this manually constructed model:"
      ]
    },
    {
      "cell_type": "code",
      "execution_count": 24,
      "metadata": {
        "id": "bqahDVg3t1xM",
        "outputId": "e2e2c6cd-aad8-48bd-ea3c-0cb31cf9eedc",
        "colab": {
          "base_uri": "https://localhost:8080/",
          "height": 124
        }
      },
      "outputs": [
        {
          "output_type": "execute_result",
          "data": {
            "text/plain": [
              "<IPython.core.display.HTML object>"
            ],
            "text/html": [
              "\n",
              "<script src=\"https://d3js.org/d3.v6.min.js\"></script>\n",
              "<div id=\"tree_plot_8511238febf44088b36a1f424c3f1051\"></div>\n",
              "<script>\n",
              "/*\n",
              " * Copyright 2021 Google LLC.\n",
              " * Licensed under the Apache License, Version 2.0 (the \"License\");\n",
              " * you may not use this file except in compliance with the License.\n",
              " * You may obtain a copy of the License at\n",
              " *\n",
              " *     https://www.apache.org/licenses/LICENSE-2.0\n",
              " *\n",
              " * Unless required by applicable law or agreed to in writing, software\n",
              " * distributed under the License is distributed on an \"AS IS\" BASIS,\n",
              " * WITHOUT WARRANTIES OR CONDITIONS OF ANY KIND, either express or implied.\n",
              " * See the License for the specific language governing permissions and\n",
              " * limitations under the License.\n",
              " */\n",
              "\n",
              "/**\n",
              " *  Plotting of decision trees generated by TF-DF.\n",
              " *\n",
              " *  A tree is a recursive structure of node objects.\n",
              " *  A node contains one or more of the following components:\n",
              " *\n",
              " *    - A value: Representing the output of the node. If the node is not a leaf,\n",
              " *      the value is only present for analysis i.e. it is not used for\n",
              " *      predictions.\n",
              " *\n",
              " *    - A condition : For non-leaf nodes, the condition (also known as split)\n",
              " *      defines a binary test to branch to the positive or negative child.\n",
              " *\n",
              " *    - An explanation: Generally a plot showing the relation between the label\n",
              " *      and the condition to give insights about the effect of the condition.\n",
              " *\n",
              " *    - Two children : For non-leaf nodes, the children nodes. The first\n",
              " *      children (i.e. \"node.children[0]\") is the negative children (drawn in\n",
              " *      red). The second children is the positive one (drawn in green).\n",
              " *\n",
              " */\n",
              "\n",
              "/**\n",
              " * Plots a single decision tree into a DOM element.\n",
              " * @param {!options} options Dictionary of configurations.\n",
              " * @param {!tree} raw_tree Recursive tree structure.\n",
              " * @param {string} canvas_id Id of the output dom element.\n",
              " */\n",
              "function display_tree(options, raw_tree, canvas_id) {\n",
              "  console.log(options);\n",
              "\n",
              "  // Determine the node placement.\n",
              "  const tree_struct = d3.tree().nodeSize(\n",
              "      [options.node_y_offset, options.node_x_offset])(d3.hierarchy(raw_tree));\n",
              "\n",
              "  // Boundaries of the node placement.\n",
              "  let x_min = Infinity;\n",
              "  let x_max = -x_min;\n",
              "  let y_min = Infinity;\n",
              "  let y_max = -x_min;\n",
              "\n",
              "  tree_struct.each(d => {\n",
              "    if (d.x > x_max) x_max = d.x;\n",
              "    if (d.x < x_min) x_min = d.x;\n",
              "    if (d.y > y_max) y_max = d.y;\n",
              "    if (d.y < y_min) y_min = d.y;\n",
              "  });\n",
              "\n",
              "  // Size of the plot.\n",
              "  const width = y_max - y_min + options.node_x_size + options.margin * 2;\n",
              "  const height = x_max - x_min + options.node_y_size + options.margin * 2 +\n",
              "      options.node_y_offset - options.node_y_size;\n",
              "\n",
              "  const plot = d3.select(canvas_id);\n",
              "\n",
              "  // Tool tip\n",
              "  options.tooltip = plot.append('div')\n",
              "                        .attr('width', 100)\n",
              "                        .attr('height', 100)\n",
              "                        .style('padding', '4px')\n",
              "                        .style('background', '#fff')\n",
              "                        .style('box-shadow', '4px 4px 0px rgba(0,0,0,0.1)')\n",
              "                        .style('border', '1px solid black')\n",
              "                        .style('font-family', 'sans-serif')\n",
              "                        .style('font-size', options.font_size)\n",
              "                        .style('position', 'absolute')\n",
              "                        .style('z-index', '10')\n",
              "                        .attr('pointer-events', 'none')\n",
              "                        .style('display', 'none');\n",
              "\n",
              "  // Create canvas\n",
              "  const svg = plot.append('svg').attr('width', width).attr('height', height);\n",
              "  const graph =\n",
              "      svg.style('overflow', 'visible')\n",
              "          .append('g')\n",
              "          .attr('font-family', 'sans-serif')\n",
              "          .attr('font-size', options.font_size)\n",
              "          .attr(\n",
              "              'transform',\n",
              "              () => `translate(${options.margin},${\n",
              "                  - x_min + options.node_y_offset / 2 + options.margin})`);\n",
              "\n",
              "  // Plot bounding box.\n",
              "  if (options.show_plot_bounding_box) {\n",
              "    svg.append('rect')\n",
              "        .attr('width', width)\n",
              "        .attr('height', height)\n",
              "        .attr('fill', 'none')\n",
              "        .attr('stroke-width', 1.0)\n",
              "        .attr('stroke', 'black');\n",
              "  }\n",
              "\n",
              "  // Draw the edges.\n",
              "  display_edges(options, graph, tree_struct);\n",
              "\n",
              "  // Draw the nodes.\n",
              "  display_nodes(options, graph, tree_struct);\n",
              "}\n",
              "\n",
              "/**\n",
              " * Draw the nodes of the tree.\n",
              " * @param {!options} options Dictionary of configurations.\n",
              " * @param {!graph} graph D3 search handle containing the graph.\n",
              " * @param {!tree_struct} tree_struct Structure of the tree (node placement,\n",
              " *     data, etc.).\n",
              " */\n",
              "function display_nodes(options, graph, tree_struct) {\n",
              "  const nodes = graph.append('g')\n",
              "                    .selectAll('g')\n",
              "                    .data(tree_struct.descendants())\n",
              "                    .join('g')\n",
              "                    .attr('transform', d => `translate(${d.y},${d.x})`);\n",
              "\n",
              "  nodes.append('rect')\n",
              "      .attr('x', 0.5)\n",
              "      .attr('y', 0.5)\n",
              "      .attr('width', options.node_x_size)\n",
              "      .attr('height', options.node_y_size)\n",
              "      .attr('stroke', 'lightgrey')\n",
              "      .attr('stroke-width', 1)\n",
              "      .attr('fill', 'white')\n",
              "      .attr('y', -options.node_y_size / 2);\n",
              "\n",
              "  // Brackets on the right of condition nodes without children.\n",
              "  non_leaf_node_without_children =\n",
              "      nodes.filter(node => node.data.condition != null && node.children == null)\n",
              "          .append('g')\n",
              "          .attr('transform', `translate(${options.node_x_size},0)`);\n",
              "\n",
              "  non_leaf_node_without_children.append('path')\n",
              "      .attr('d', 'M0,0 C 10,0 0,10 10,10')\n",
              "      .attr('fill', 'none')\n",
              "      .attr('stroke-width', 1.0)\n",
              "      .attr('stroke', '#F00');\n",
              "\n",
              "  non_leaf_node_without_children.append('path')\n",
              "      .attr('d', 'M0,0 C 10,0 0,-10 10,-10')\n",
              "      .attr('fill', 'none')\n",
              "      .attr('stroke-width', 1.0)\n",
              "      .attr('stroke', '#0F0');\n",
              "\n",
              "  const node_content = nodes.append('g').attr(\n",
              "      'transform',\n",
              "      `translate(0,${options.node_padding - options.node_y_size / 2})`);\n",
              "\n",
              "  node_content.append(node => create_node_element(options, node));\n",
              "}\n",
              "\n",
              "/**\n",
              " * Creates the D3 content for a single node.\n",
              " * @param {!options} options Dictionary of configurations.\n",
              " * @param {!node} node Node to draw.\n",
              " * @return {!d3} D3 content.\n",
              " */\n",
              "function create_node_element(options, node) {\n",
              "  // Output accumulator.\n",
              "  let output = {\n",
              "    // Content to draw.\n",
              "    content: d3.create('svg:g'),\n",
              "    // Vertical offset to the next element to draw.\n",
              "    vertical_offset: 0\n",
              "  };\n",
              "\n",
              "  // Conditions.\n",
              "  if (node.data.condition != null) {\n",
              "    display_condition(options, node.data.condition, output);\n",
              "  }\n",
              "\n",
              "  // Values.\n",
              "  if (node.data.value != null) {\n",
              "    display_value(options, node.data.value, output);\n",
              "  }\n",
              "\n",
              "  // Explanations.\n",
              "  if (node.data.explanation != null) {\n",
              "    display_explanation(options, node.data.explanation, output);\n",
              "  }\n",
              "\n",
              "  return output.content.node();\n",
              "}\n",
              "\n",
              "\n",
              "/**\n",
              " * Adds a single line of text inside of a node.\n",
              " * @param {!options} options Dictionary of configurations.\n",
              " * @param {string} text Text to display.\n",
              " * @param {!output} output Output display accumulator.\n",
              " */\n",
              "function display_node_text(options, text, output) {\n",
              "  output.content.append('text')\n",
              "      .attr('x', options.node_padding)\n",
              "      .attr('y', output.vertical_offset)\n",
              "      .attr('alignment-baseline', 'hanging')\n",
              "      .text(text);\n",
              "  output.vertical_offset += 10;\n",
              "}\n",
              "\n",
              "/**\n",
              " * Adds a single line of text inside of a node with a tooltip.\n",
              " * @param {!options} options Dictionary of configurations.\n",
              " * @param {string} text Text to display.\n",
              " * @param {string} tooltip Text in the Tooltip.\n",
              " * @param {!output} output Output display accumulator.\n",
              " */\n",
              "function display_node_text_with_tooltip(options, text, tooltip, output) {\n",
              "  const item = output.content.append('text')\n",
              "                   .attr('x', options.node_padding)\n",
              "                   .attr('alignment-baseline', 'hanging')\n",
              "                   .text(text);\n",
              "\n",
              "  add_tooltip(options, item, () => tooltip);\n",
              "  output.vertical_offset += 10;\n",
              "}\n",
              "\n",
              "/**\n",
              " * Adds a tooltip to a dom element.\n",
              " * @param {!options} options Dictionary of configurations.\n",
              " * @param {!dom} target Dom element to equip with a tooltip.\n",
              " * @param {!func} get_content Generates the html content of the tooltip.\n",
              " */\n",
              "function add_tooltip(options, target, get_content) {\n",
              "  function show(d) {\n",
              "    options.tooltip.style('display', 'block');\n",
              "    options.tooltip.html(get_content());\n",
              "  }\n",
              "\n",
              "  function hide(d) {\n",
              "    options.tooltip.style('display', 'none');\n",
              "  }\n",
              "\n",
              "  function move(d) {\n",
              "    options.tooltip.style('display', 'block');\n",
              "    options.tooltip.style('left', (d.pageX + 5) + 'px');\n",
              "    options.tooltip.style('top', d.pageY + 'px');\n",
              "  }\n",
              "\n",
              "  target.on('mouseover', show);\n",
              "  target.on('mouseout', hide);\n",
              "  target.on('mousemove', move);\n",
              "}\n",
              "\n",
              "/**\n",
              " * Adds a condition inside of a node.\n",
              " * @param {!options} options Dictionary of configurations.\n",
              " * @param {!condition} condition Condition to display.\n",
              " * @param {!output} output Output display accumulator.\n",
              " */\n",
              "function display_condition(options, condition, output) {\n",
              "  threshold_format = d3.format('r');\n",
              "\n",
              "  if (condition.type === 'IS_MISSING') {\n",
              "    display_node_text(options, `${condition.attribute} is missing`, output);\n",
              "    return;\n",
              "  }\n",
              "\n",
              "  if (condition.type === 'IS_TRUE') {\n",
              "    display_node_text(options, `${condition.attribute} is true`, output);\n",
              "    return;\n",
              "  }\n",
              "\n",
              "  if (condition.type === 'NUMERICAL_IS_HIGHER_THAN') {\n",
              "    format = d3.format('r');\n",
              "    display_node_text(\n",
              "        options,\n",
              "        `${condition.attribute} >= ${threshold_format(condition.threshold)}`,\n",
              "        output);\n",
              "    return;\n",
              "  }\n",
              "\n",
              "  if (condition.type === 'CATEGORICAL_IS_IN') {\n",
              "    display_node_text_with_tooltip(\n",
              "        options, `${condition.attribute} in [...]`,\n",
              "        `${condition.attribute} in [${condition.mask}]`, output);\n",
              "    return;\n",
              "  }\n",
              "\n",
              "  if (condition.type === 'CATEGORICAL_SET_CONTAINS') {\n",
              "    display_node_text_with_tooltip(\n",
              "        options, `${condition.attribute} intersect [...]`,\n",
              "        `${condition.attribute} intersect [${condition.mask}]`, output);\n",
              "    return;\n",
              "  }\n",
              "\n",
              "  if (condition.type === 'NUMERICAL_SPARSE_OBLIQUE') {\n",
              "    display_node_text_with_tooltip(\n",
              "        options, `Sparse oblique split...`,\n",
              "        `[${condition.attributes}]*[${condition.weights}]>=${\n",
              "            threshold_format(condition.threshold)}`,\n",
              "        output);\n",
              "    return;\n",
              "  }\n",
              "\n",
              "  display_node_text(\n",
              "      options, `Non supported condition ${condition.type}`, output);\n",
              "}\n",
              "\n",
              "/**\n",
              " * Adds a value inside of a node.\n",
              " * @param {!options} options Dictionary of configurations.\n",
              " * @param {!value} value Value to display.\n",
              " * @param {!output} output Output display accumulator.\n",
              " */\n",
              "function display_value(options, value, output) {\n",
              "  if (value.type === 'PROBABILITY') {\n",
              "    const left_margin = 0;\n",
              "    const right_margin = 50;\n",
              "    const plot_width = options.node_x_size - options.node_padding * 2 -\n",
              "        left_margin - right_margin;\n",
              "\n",
              "    let cusum = Array.from(d3.cumsum(value.distribution));\n",
              "    cusum.unshift(0);\n",
              "    const distribution_plot = output.content.append('g').attr(\n",
              "        'transform', `translate(0,${output.vertical_offset + 0.5})`);\n",
              "\n",
              "    distribution_plot.selectAll('rect')\n",
              "        .data(value.distribution)\n",
              "        .join('rect')\n",
              "        .attr('height', 10)\n",
              "        .attr(\n",
              "            'x',\n",
              "            (d, i) =>\n",
              "                (cusum[i] * plot_width + left_margin + options.node_padding))\n",
              "        .attr('width', (d, i) => d * plot_width)\n",
              "        .style('fill', (d, i) => d3.schemeSet1[i]);\n",
              "\n",
              "    const num_examples =\n",
              "        output.content.append('g')\n",
              "            .attr('transform', `translate(0,${output.vertical_offset})`)\n",
              "            .append('text')\n",
              "            .attr('x', options.node_x_size - options.node_padding)\n",
              "            .attr('alignment-baseline', 'hanging')\n",
              "            .attr('text-anchor', 'end')\n",
              "            .text(`(${value.num_examples})`);\n",
              "\n",
              "    const distribution_details = d3.create('ul');\n",
              "    distribution_details.selectAll('li')\n",
              "        .data(value.distribution)\n",
              "        .join('li')\n",
              "        .append('span')\n",
              "        .text(\n",
              "            (d, i) =>\n",
              "                'class ' + i + ': ' + d3.format('.3%')(value.distribution[i]));\n",
              "\n",
              "    add_tooltip(options, distribution_plot, () => distribution_details.html());\n",
              "    add_tooltip(options, num_examples, () => 'Number of examples');\n",
              "\n",
              "    output.vertical_offset += 10;\n",
              "    return;\n",
              "  }\n",
              "\n",
              "  if (value.type === 'REGRESSION') {\n",
              "    display_node_text(\n",
              "        options,\n",
              "        'value: ' + d3.format('r')(value.value) + ` (` +\n",
              "            d3.format('.6')(value.num_examples) + `)`,\n",
              "        output);\n",
              "    return;\n",
              "  }\n",
              "\n",
              "  display_node_text(options, `Non supported value ${value.type}`, output);\n",
              "}\n",
              "\n",
              "/**\n",
              " * Adds an explanation inside of a node.\n",
              " * @param {!options} options Dictionary of configurations.\n",
              " * @param {!explanation} explanation Explanation to display.\n",
              " * @param {!output} output Output display accumulator.\n",
              " */\n",
              "function display_explanation(options, explanation, output) {\n",
              "  // Margin before the explanation.\n",
              "  output.vertical_offset += 10;\n",
              "\n",
              "  display_node_text(\n",
              "      options, `Non supported explanation ${explanation.type}`, output);\n",
              "}\n",
              "\n",
              "\n",
              "/**\n",
              " * Draw the edges of the tree.\n",
              " * @param {!options} options Dictionary of configurations.\n",
              " * @param {!graph} graph D3 search handle containing the graph.\n",
              " * @param {!tree_struct} tree_struct Structure of the tree (node placement,\n",
              " *     data, etc.).\n",
              " */\n",
              "function display_edges(options, graph, tree_struct) {\n",
              "  // Draw an edge between a parent and a child node with a bezier.\n",
              "  function draw_single_edge(d) {\n",
              "    return 'M' + (d.source.y + options.node_x_size) + ',' + d.source.x + ' C' +\n",
              "        (d.source.y + options.node_x_size + options.edge_rounding) + ',' +\n",
              "        d.source.x + ' ' + (d.target.y - options.edge_rounding) + ',' +\n",
              "        d.target.x + ' ' + d.target.y + ',' + d.target.x;\n",
              "  }\n",
              "\n",
              "  graph.append('g')\n",
              "      .attr('fill', 'none')\n",
              "      .attr('stroke-width', 1.2)\n",
              "      .selectAll('path')\n",
              "      .data(tree_struct.links())\n",
              "      .join('path')\n",
              "      .attr('d', draw_single_edge)\n",
              "      .attr(\n",
              "          'stroke', d => (d.target === d.source.children[0]) ? '#0F0' : '#F00');\n",
              "}\n",
              "\n",
              "display_tree({\"margin\": 10, \"node_x_size\": 160, \"node_y_size\": 28, \"node_x_offset\": 180, \"node_y_offset\": 33, \"font_size\": 10, \"edge_rounding\": 20, \"node_padding\": 2, \"show_plot_bounding_box\": false, \"labels\": \"[\\\"red\\\", \\\"blue\\\", \\\"green\\\"]\"}, {\"condition\": {\"type\": \"NUMERICAL_IS_HIGHER_THAN\", \"attribute\": \"f1\", \"threshold\": 1.5}, \"children\": [{\"condition\": {\"type\": \"CATEGORICAL_IS_IN\", \"attribute\": \"f2\", \"mask\": [\"cat\", \"dog\"]}, \"children\": [{\"value\": {\"type\": \"PROBABILITY\", \"distribution\": [0.8, 0.1, 0.1], \"num_examples\": 10.0}}, {\"value\": {\"type\": \"PROBABILITY\", \"distribution\": [0.1, 0.8, 0.1], \"num_examples\": 20.0}}]}, {\"value\": {\"type\": \"PROBABILITY\", \"distribution\": [0.1, 0.1, 0.8], \"num_examples\": 30.0}}]}, \"#tree_plot_8511238febf44088b36a1f424c3f1051\")\n",
              "</script>\n"
            ]
          },
          "metadata": {},
          "execution_count": 24
        }
      ],
      "source": [
        "tfdf.model_plotter.plot_model_in_colab(manual_model)"
      ]
    }
  ],
  "metadata": {
    "colab": {
      "name": "advanced_colab.ipynb",
      "provenance": [],
      "toc_visible": true
    },
    "kernelspec": {
      "display_name": "Python 3",
      "name": "python3"
    }
  },
  "nbformat": 4,
  "nbformat_minor": 0
}